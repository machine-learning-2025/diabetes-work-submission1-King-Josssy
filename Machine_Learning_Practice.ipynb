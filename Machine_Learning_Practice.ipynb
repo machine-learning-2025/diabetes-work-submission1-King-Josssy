{
  "cells": [
    {
      "cell_type": "markdown",
      "metadata": {
        "id": "iJvDKfju2A8K"
      },
      "source": [
        "## The Machine Learning Process:-\n",
        "\n",
        "Credit to: `Jason Brownlee`\n",
        "\n",
        "Instructor: `Ainembabazi Moses`\n",
        "\n",
        "Prerequisite: Numpy, Pandas, Matplotlib\n",
        "\n",
        "Duration: 3Hrs"
      ]
    },
    {
      "cell_type": "markdown",
      "metadata": {
        "id": "w6G_DYXs2A8R"
      },
      "source": [
        "## Dimensions of Your Data\n",
        "You must have a very good handle on how much data you have, both in terms of rows and columns.\n",
        "\n",
        "- `Data Integrity:` The first and foremost reason for checking the dimensions of data is to ensure that the data is complete and accurate. The shape of the data (number of rows and columns) can give an idea of how much data is available for analysis, and can help detect any inconsistencies or missing values in the data.\n",
        "\n",
        "- `Data Preprocessing:` The dimensions of data are important to determine the appropriate preprocessing steps to apply before building a machine learning model. For example, if there are too many missing values or too few data points, certain data cleaning or feature engineering techniques may need to be applied to prepare the data for analysis.\n",
        "\n",
        "- `Model Training:` The dimensions of data also impact the training of machine learning models. Machine learning models require a certain amount of data to learn and generalize patterns in the data. If the dataset is too small, the model may not learn the underlying patterns in the data, and if the dataset is too large, it may lead to overfitting. Thus, understanding the dimensions of the data is crucial for selecting an appropriate model and tuning its hyperparameters.\n",
        "\n",
        "\n",
        "- `Training time estimation:`  the dimensions of data can have a significant impact on the training times of machine learning models. In general, as the size of the dataset (i.e., number of rows and columns) increases, the training time of machine learning models also increases.\n",
        "This is because most machine learning algorithms require multiple passes over the data to learn the underlying patterns and relationships in the data. As the dataset size increases, the number of calculations required to process the data increases, which can result in longer training times."
      ]
    },
    {
      "cell_type": "code",
      "source": [
        "import pandas as pd\n",
        "import numpy as np\n",
        "import matplotlib.pyplot as plt\n",
        "import seaborn as sns\n",
        "from sklearn.model_selection import train_test_split, cross_val_score\n",
        "from sklearn.preprocessing import MinMaxScaler, StandardScaler, Normalizer, Binarizer\n",
        "from sklearn.linear_model import LogisticRegression, LinearRegression, Ridge\n",
        "from sklearn.discriminant_analysis import LinearDiscriminantAnalysis\n",
        "from sklearn.neighbors import KNeighborsClassifier, KNeighborsRegressor\n",
        "from sklearn.tree import DecisionTreeClassifier\n",
        "from sklearn.svm import SVC\n",
        "from sklearn.ensemble import BaggingClassifier, RandomForestClassifier, ExtraTreesClassifier, AdaBoostClassifier, GradientBoostingClassifier, VotingClassifier\n",
        "import pickle\n",
        "from joblib import dump, load"
      ],
      "metadata": {
        "id": "z8Cq66d93UUH"
      },
      "execution_count": 5,
      "outputs": []
    },
    {
      "cell_type": "code",
      "source": [
        "data = pd.read_csv(\"diabetes.csv\")\n",
        "print(data.shape)\n",
        "data.head()"
      ],
      "metadata": {
        "colab": {
          "base_uri": "https://localhost:8080/",
          "height": 244
        },
        "id": "BLDRxwrW2fTV",
        "outputId": "0da8bac2-a9e1-40e1-a6f2-f3fa31aa06de"
      },
      "execution_count": 6,
      "outputs": [
        {
          "output_type": "stream",
          "name": "stdout",
          "text": [
            "(768, 9)\n"
          ]
        },
        {
          "output_type": "execute_result",
          "data": {
            "text/plain": [
              "   Pregnancies  Glucose  BloodPressure  SkinThickness  Insulin   BMI  \\\n",
              "0            6      148             72             35        0  33.6   \n",
              "1            1       85             66             29        0  26.6   \n",
              "2            8      183             64              0        0  23.3   \n",
              "3            1       89             66             23       94  28.1   \n",
              "4            0      137             40             35      168  43.1   \n",
              "\n",
              "   DiabetesPedigreeFunction  Age  Outcome  \n",
              "0                     0.627   50        1  \n",
              "1                     0.351   31        0  \n",
              "2                     0.672   32        1  \n",
              "3                     0.167   21        0  \n",
              "4                     2.288   33        1  "
            ],
            "text/html": [
              "\n",
              "  <div id=\"df-e4fc5fef-d0b2-4d52-b80c-da72dc2ce417\" class=\"colab-df-container\">\n",
              "    <div>\n",
              "<style scoped>\n",
              "    .dataframe tbody tr th:only-of-type {\n",
              "        vertical-align: middle;\n",
              "    }\n",
              "\n",
              "    .dataframe tbody tr th {\n",
              "        vertical-align: top;\n",
              "    }\n",
              "\n",
              "    .dataframe thead th {\n",
              "        text-align: right;\n",
              "    }\n",
              "</style>\n",
              "<table border=\"1\" class=\"dataframe\">\n",
              "  <thead>\n",
              "    <tr style=\"text-align: right;\">\n",
              "      <th></th>\n",
              "      <th>Pregnancies</th>\n",
              "      <th>Glucose</th>\n",
              "      <th>BloodPressure</th>\n",
              "      <th>SkinThickness</th>\n",
              "      <th>Insulin</th>\n",
              "      <th>BMI</th>\n",
              "      <th>DiabetesPedigreeFunction</th>\n",
              "      <th>Age</th>\n",
              "      <th>Outcome</th>\n",
              "    </tr>\n",
              "  </thead>\n",
              "  <tbody>\n",
              "    <tr>\n",
              "      <th>0</th>\n",
              "      <td>6</td>\n",
              "      <td>148</td>\n",
              "      <td>72</td>\n",
              "      <td>35</td>\n",
              "      <td>0</td>\n",
              "      <td>33.6</td>\n",
              "      <td>0.627</td>\n",
              "      <td>50</td>\n",
              "      <td>1</td>\n",
              "    </tr>\n",
              "    <tr>\n",
              "      <th>1</th>\n",
              "      <td>1</td>\n",
              "      <td>85</td>\n",
              "      <td>66</td>\n",
              "      <td>29</td>\n",
              "      <td>0</td>\n",
              "      <td>26.6</td>\n",
              "      <td>0.351</td>\n",
              "      <td>31</td>\n",
              "      <td>0</td>\n",
              "    </tr>\n",
              "    <tr>\n",
              "      <th>2</th>\n",
              "      <td>8</td>\n",
              "      <td>183</td>\n",
              "      <td>64</td>\n",
              "      <td>0</td>\n",
              "      <td>0</td>\n",
              "      <td>23.3</td>\n",
              "      <td>0.672</td>\n",
              "      <td>32</td>\n",
              "      <td>1</td>\n",
              "    </tr>\n",
              "    <tr>\n",
              "      <th>3</th>\n",
              "      <td>1</td>\n",
              "      <td>89</td>\n",
              "      <td>66</td>\n",
              "      <td>23</td>\n",
              "      <td>94</td>\n",
              "      <td>28.1</td>\n",
              "      <td>0.167</td>\n",
              "      <td>21</td>\n",
              "      <td>0</td>\n",
              "    </tr>\n",
              "    <tr>\n",
              "      <th>4</th>\n",
              "      <td>0</td>\n",
              "      <td>137</td>\n",
              "      <td>40</td>\n",
              "      <td>35</td>\n",
              "      <td>168</td>\n",
              "      <td>43.1</td>\n",
              "      <td>2.288</td>\n",
              "      <td>33</td>\n",
              "      <td>1</td>\n",
              "    </tr>\n",
              "  </tbody>\n",
              "</table>\n",
              "</div>\n",
              "    <div class=\"colab-df-buttons\">\n",
              "\n",
              "  <div class=\"colab-df-container\">\n",
              "    <button class=\"colab-df-convert\" onclick=\"convertToInteractive('df-e4fc5fef-d0b2-4d52-b80c-da72dc2ce417')\"\n",
              "            title=\"Convert this dataframe to an interactive table.\"\n",
              "            style=\"display:none;\">\n",
              "\n",
              "  <svg xmlns=\"http://www.w3.org/2000/svg\" height=\"24px\" viewBox=\"0 -960 960 960\">\n",
              "    <path d=\"M120-120v-720h720v720H120Zm60-500h600v-160H180v160Zm220 220h160v-160H400v160Zm0 220h160v-160H400v160ZM180-400h160v-160H180v160Zm440 0h160v-160H620v160ZM180-180h160v-160H180v160Zm440 0h160v-160H620v160Z\"/>\n",
              "  </svg>\n",
              "    </button>\n",
              "\n",
              "  <style>\n",
              "    .colab-df-container {\n",
              "      display:flex;\n",
              "      gap: 12px;\n",
              "    }\n",
              "\n",
              "    .colab-df-convert {\n",
              "      background-color: #E8F0FE;\n",
              "      border: none;\n",
              "      border-radius: 50%;\n",
              "      cursor: pointer;\n",
              "      display: none;\n",
              "      fill: #1967D2;\n",
              "      height: 32px;\n",
              "      padding: 0 0 0 0;\n",
              "      width: 32px;\n",
              "    }\n",
              "\n",
              "    .colab-df-convert:hover {\n",
              "      background-color: #E2EBFA;\n",
              "      box-shadow: 0px 1px 2px rgba(60, 64, 67, 0.3), 0px 1px 3px 1px rgba(60, 64, 67, 0.15);\n",
              "      fill: #174EA6;\n",
              "    }\n",
              "\n",
              "    .colab-df-buttons div {\n",
              "      margin-bottom: 4px;\n",
              "    }\n",
              "\n",
              "    [theme=dark] .colab-df-convert {\n",
              "      background-color: #3B4455;\n",
              "      fill: #D2E3FC;\n",
              "    }\n",
              "\n",
              "    [theme=dark] .colab-df-convert:hover {\n",
              "      background-color: #434B5C;\n",
              "      box-shadow: 0px 1px 3px 1px rgba(0, 0, 0, 0.15);\n",
              "      filter: drop-shadow(0px 1px 2px rgba(0, 0, 0, 0.3));\n",
              "      fill: #FFFFFF;\n",
              "    }\n",
              "  </style>\n",
              "\n",
              "    <script>\n",
              "      const buttonEl =\n",
              "        document.querySelector('#df-e4fc5fef-d0b2-4d52-b80c-da72dc2ce417 button.colab-df-convert');\n",
              "      buttonEl.style.display =\n",
              "        google.colab.kernel.accessAllowed ? 'block' : 'none';\n",
              "\n",
              "      async function convertToInteractive(key) {\n",
              "        const element = document.querySelector('#df-e4fc5fef-d0b2-4d52-b80c-da72dc2ce417');\n",
              "        const dataTable =\n",
              "          await google.colab.kernel.invokeFunction('convertToInteractive',\n",
              "                                                    [key], {});\n",
              "        if (!dataTable) return;\n",
              "\n",
              "        const docLinkHtml = 'Like what you see? Visit the ' +\n",
              "          '<a target=\"_blank\" href=https://colab.research.google.com/notebooks/data_table.ipynb>data table notebook</a>'\n",
              "          + ' to learn more about interactive tables.';\n",
              "        element.innerHTML = '';\n",
              "        dataTable['output_type'] = 'display_data';\n",
              "        await google.colab.output.renderOutput(dataTable, element);\n",
              "        const docLink = document.createElement('div');\n",
              "        docLink.innerHTML = docLinkHtml;\n",
              "        element.appendChild(docLink);\n",
              "      }\n",
              "    </script>\n",
              "  </div>\n",
              "\n",
              "\n",
              "    <div id=\"df-f37de6c5-050f-4924-b030-20e2e9fc35b1\">\n",
              "      <button class=\"colab-df-quickchart\" onclick=\"quickchart('df-f37de6c5-050f-4924-b030-20e2e9fc35b1')\"\n",
              "                title=\"Suggest charts\"\n",
              "                style=\"display:none;\">\n",
              "\n",
              "<svg xmlns=\"http://www.w3.org/2000/svg\" height=\"24px\"viewBox=\"0 0 24 24\"\n",
              "     width=\"24px\">\n",
              "    <g>\n",
              "        <path d=\"M19 3H5c-1.1 0-2 .9-2 2v14c0 1.1.9 2 2 2h14c1.1 0 2-.9 2-2V5c0-1.1-.9-2-2-2zM9 17H7v-7h2v7zm4 0h-2V7h2v10zm4 0h-2v-4h2v4z\"/>\n",
              "    </g>\n",
              "</svg>\n",
              "      </button>\n",
              "\n",
              "<style>\n",
              "  .colab-df-quickchart {\n",
              "      --bg-color: #E8F0FE;\n",
              "      --fill-color: #1967D2;\n",
              "      --hover-bg-color: #E2EBFA;\n",
              "      --hover-fill-color: #174EA6;\n",
              "      --disabled-fill-color: #AAA;\n",
              "      --disabled-bg-color: #DDD;\n",
              "  }\n",
              "\n",
              "  [theme=dark] .colab-df-quickchart {\n",
              "      --bg-color: #3B4455;\n",
              "      --fill-color: #D2E3FC;\n",
              "      --hover-bg-color: #434B5C;\n",
              "      --hover-fill-color: #FFFFFF;\n",
              "      --disabled-bg-color: #3B4455;\n",
              "      --disabled-fill-color: #666;\n",
              "  }\n",
              "\n",
              "  .colab-df-quickchart {\n",
              "    background-color: var(--bg-color);\n",
              "    border: none;\n",
              "    border-radius: 50%;\n",
              "    cursor: pointer;\n",
              "    display: none;\n",
              "    fill: var(--fill-color);\n",
              "    height: 32px;\n",
              "    padding: 0;\n",
              "    width: 32px;\n",
              "  }\n",
              "\n",
              "  .colab-df-quickchart:hover {\n",
              "    background-color: var(--hover-bg-color);\n",
              "    box-shadow: 0 1px 2px rgba(60, 64, 67, 0.3), 0 1px 3px 1px rgba(60, 64, 67, 0.15);\n",
              "    fill: var(--button-hover-fill-color);\n",
              "  }\n",
              "\n",
              "  .colab-df-quickchart-complete:disabled,\n",
              "  .colab-df-quickchart-complete:disabled:hover {\n",
              "    background-color: var(--disabled-bg-color);\n",
              "    fill: var(--disabled-fill-color);\n",
              "    box-shadow: none;\n",
              "  }\n",
              "\n",
              "  .colab-df-spinner {\n",
              "    border: 2px solid var(--fill-color);\n",
              "    border-color: transparent;\n",
              "    border-bottom-color: var(--fill-color);\n",
              "    animation:\n",
              "      spin 1s steps(1) infinite;\n",
              "  }\n",
              "\n",
              "  @keyframes spin {\n",
              "    0% {\n",
              "      border-color: transparent;\n",
              "      border-bottom-color: var(--fill-color);\n",
              "      border-left-color: var(--fill-color);\n",
              "    }\n",
              "    20% {\n",
              "      border-color: transparent;\n",
              "      border-left-color: var(--fill-color);\n",
              "      border-top-color: var(--fill-color);\n",
              "    }\n",
              "    30% {\n",
              "      border-color: transparent;\n",
              "      border-left-color: var(--fill-color);\n",
              "      border-top-color: var(--fill-color);\n",
              "      border-right-color: var(--fill-color);\n",
              "    }\n",
              "    40% {\n",
              "      border-color: transparent;\n",
              "      border-right-color: var(--fill-color);\n",
              "      border-top-color: var(--fill-color);\n",
              "    }\n",
              "    60% {\n",
              "      border-color: transparent;\n",
              "      border-right-color: var(--fill-color);\n",
              "    }\n",
              "    80% {\n",
              "      border-color: transparent;\n",
              "      border-right-color: var(--fill-color);\n",
              "      border-bottom-color: var(--fill-color);\n",
              "    }\n",
              "    90% {\n",
              "      border-color: transparent;\n",
              "      border-bottom-color: var(--fill-color);\n",
              "    }\n",
              "  }\n",
              "</style>\n",
              "\n",
              "      <script>\n",
              "        async function quickchart(key) {\n",
              "          const quickchartButtonEl =\n",
              "            document.querySelector('#' + key + ' button');\n",
              "          quickchartButtonEl.disabled = true;  // To prevent multiple clicks.\n",
              "          quickchartButtonEl.classList.add('colab-df-spinner');\n",
              "          try {\n",
              "            const charts = await google.colab.kernel.invokeFunction(\n",
              "                'suggestCharts', [key], {});\n",
              "          } catch (error) {\n",
              "            console.error('Error during call to suggestCharts:', error);\n",
              "          }\n",
              "          quickchartButtonEl.classList.remove('colab-df-spinner');\n",
              "          quickchartButtonEl.classList.add('colab-df-quickchart-complete');\n",
              "        }\n",
              "        (() => {\n",
              "          let quickchartButtonEl =\n",
              "            document.querySelector('#df-f37de6c5-050f-4924-b030-20e2e9fc35b1 button');\n",
              "          quickchartButtonEl.style.display =\n",
              "            google.colab.kernel.accessAllowed ? 'block' : 'none';\n",
              "        })();\n",
              "      </script>\n",
              "    </div>\n",
              "\n",
              "    </div>\n",
              "  </div>\n"
            ],
            "application/vnd.google.colaboratory.intrinsic+json": {
              "type": "dataframe",
              "variable_name": "data",
              "summary": "{\n  \"name\": \"data\",\n  \"rows\": 768,\n  \"fields\": [\n    {\n      \"column\": \"Pregnancies\",\n      \"properties\": {\n        \"dtype\": \"number\",\n        \"std\": 3,\n        \"min\": 0,\n        \"max\": 17,\n        \"num_unique_values\": 17,\n        \"samples\": [\n          6,\n          1,\n          3\n        ],\n        \"semantic_type\": \"\",\n        \"description\": \"\"\n      }\n    },\n    {\n      \"column\": \"Glucose\",\n      \"properties\": {\n        \"dtype\": \"number\",\n        \"std\": 31,\n        \"min\": 0,\n        \"max\": 199,\n        \"num_unique_values\": 136,\n        \"samples\": [\n          151,\n          101,\n          112\n        ],\n        \"semantic_type\": \"\",\n        \"description\": \"\"\n      }\n    },\n    {\n      \"column\": \"BloodPressure\",\n      \"properties\": {\n        \"dtype\": \"number\",\n        \"std\": 19,\n        \"min\": 0,\n        \"max\": 122,\n        \"num_unique_values\": 47,\n        \"samples\": [\n          86,\n          46,\n          85\n        ],\n        \"semantic_type\": \"\",\n        \"description\": \"\"\n      }\n    },\n    {\n      \"column\": \"SkinThickness\",\n      \"properties\": {\n        \"dtype\": \"number\",\n        \"std\": 15,\n        \"min\": 0,\n        \"max\": 99,\n        \"num_unique_values\": 51,\n        \"samples\": [\n          7,\n          12,\n          48\n        ],\n        \"semantic_type\": \"\",\n        \"description\": \"\"\n      }\n    },\n    {\n      \"column\": \"Insulin\",\n      \"properties\": {\n        \"dtype\": \"number\",\n        \"std\": 115,\n        \"min\": 0,\n        \"max\": 846,\n        \"num_unique_values\": 186,\n        \"samples\": [\n          52,\n          41,\n          183\n        ],\n        \"semantic_type\": \"\",\n        \"description\": \"\"\n      }\n    },\n    {\n      \"column\": \"BMI\",\n      \"properties\": {\n        \"dtype\": \"number\",\n        \"std\": 7.8841603203754405,\n        \"min\": 0.0,\n        \"max\": 67.1,\n        \"num_unique_values\": 248,\n        \"samples\": [\n          19.9,\n          31.0,\n          38.1\n        ],\n        \"semantic_type\": \"\",\n        \"description\": \"\"\n      }\n    },\n    {\n      \"column\": \"DiabetesPedigreeFunction\",\n      \"properties\": {\n        \"dtype\": \"number\",\n        \"std\": 0.33132859501277484,\n        \"min\": 0.078,\n        \"max\": 2.42,\n        \"num_unique_values\": 517,\n        \"samples\": [\n          1.731,\n          0.426,\n          0.138\n        ],\n        \"semantic_type\": \"\",\n        \"description\": \"\"\n      }\n    },\n    {\n      \"column\": \"Age\",\n      \"properties\": {\n        \"dtype\": \"number\",\n        \"std\": 11,\n        \"min\": 21,\n        \"max\": 81,\n        \"num_unique_values\": 52,\n        \"samples\": [\n          60,\n          47,\n          72\n        ],\n        \"semantic_type\": \"\",\n        \"description\": \"\"\n      }\n    },\n    {\n      \"column\": \"Outcome\",\n      \"properties\": {\n        \"dtype\": \"number\",\n        \"std\": 0,\n        \"min\": 0,\n        \"max\": 1,\n        \"num_unique_values\": 2,\n        \"samples\": [\n          0,\n          1\n        ],\n        \"semantic_type\": \"\",\n        \"description\": \"\"\n      }\n    }\n  ]\n}"
            }
          },
          "metadata": {},
          "execution_count": 6
        }
      ]
    },
    {
      "cell_type": "markdown",
      "metadata": {
        "id": "dKx-MsSF2A8S"
      },
      "source": [
        "## Data Types\n",
        "\n",
        "It is important to know your data types for a couple of reasons:-\n",
        "\n",
        "- `Data consistency:` Checking the data types ensures that the data is consistent and in the correct format. Inconsistent data types can lead to errors or incorrect predictions during model training and testing. For example, when you keep the dates they should be in one format such as \"mm/dd/yyyy\" if they shift around you will have errors in analysis\n",
        "\n",
        "- `Feature engineering:` Data types can determine how features are engineered for the model. For example, categorical data requires different feature engineering methods than numerical data. You will be able to plan properly\n",
        "\n",
        "- `Memory optimization:` Checking data types can help optimize memory usage during preprocessing, especially when dealing with large datasets. Data types can be converted to lower memory-consuming types like integers or floats.\n",
        "\n",
        "- `Efficient data manipulation`: Different data types can require different manipulation techniques, and knowing the data types beforehand can save time and improve efficiency during data manipulation.\n",
        "\n",
        "- `Model performance:` Checking the data types can help to identify potential issues that can affect model performance, such as non-numeric data types that require encoding or missing values that require imputation."
      ]
    },
    {
      "cell_type": "code",
      "execution_count": 7,
      "metadata": {
        "colab": {
          "base_uri": "https://localhost:8080/"
        },
        "id": "OAPxx4SX2A8T",
        "outputId": "78bfb938-6e84-4af6-d5d6-e04cc44abfd9"
      },
      "outputs": [
        {
          "output_type": "stream",
          "name": "stdout",
          "text": [
            "Pregnancies                   int64\n",
            "Glucose                       int64\n",
            "BloodPressure                 int64\n",
            "SkinThickness                 int64\n",
            "Insulin                       int64\n",
            "BMI                         float64\n",
            "DiabetesPedigreeFunction    float64\n",
            "Age                           int64\n",
            "Outcome                       int64\n",
            "dtype: object\n"
          ]
        }
      ],
      "source": [
        "print(data.dtypes)"
      ]
    },
    {
      "cell_type": "markdown",
      "metadata": {
        "id": "9Maz0ZDZ2A8V"
      },
      "source": [
        "# Descriptive Statistics\n",
        "\n",
        "There are several important reasons why you would want to check the descriptive statistics of your data in a machine learning experiment. Here are some of the key reasons:\n",
        "\n",
        "- `Identifying missing or erroneous data:` Descriptive statistics can help you identify if any of your data is missing or if there are any errors in your dataset. For example, you may notice that certain features have a lower count of non-null values than others, which could indicate missing data.\n",
        "\n",
        "- `Understanding the distribution of your data:` Descriptive statistics can give you insights into the distribution of your data, such as the mean, median, and mode. This information can be useful for choosing the appropriate machine learning algorithms, as some algorithms work better with certain types of data distributions.\n",
        "\n",
        "- `Detecting outliers:` Descriptive statistics can also help you detect outliers, which are data points that fall outside the expected range of values. Outliers can have a significant impact on your machine learning model's performance, so it's important to identify and handle them appropriately.\n",
        "\n",
        "- `Assessing the quality of your data:` By examining the descriptive statistics of your data, you can get a sense of the overall quality of your dataset. For example, if you notice that some features have a large range of values compared to others, this could indicate that the data is noisy or that some features may be more important than others.\n",
        "\n",
        "- Descriptive statistics `can give you great insight into the shape of each attribute`. Often you can create more summaries than you have time to review. The describe() function on the Pandas\n",
        "\n",
        "DataFrame lists 8 statistical properties of each attribute. They are:\n",
        "\n",
        "- Count.\n",
        "- Mean.\n",
        "- Standard Deviation.\n",
        "- Minimum Value.\n",
        "- 25th Percentile.\n",
        "- 50th Percentile (Median).\n",
        "- 75th Percentile.\n",
        "- Maximum Value.\n",
        "\n",
        "\n",
        "## Pandas Profiling\n",
        "\n",
        "- This can be made easier using a library called pandasprofiling, this library helps you draw all the graphs but you will still have to make decisions on those graphs to move forward.\n",
        "\n",
        "\n",
        "# Homework:\n",
        ">> Does it make sense to have BloodPressure of 0 in a person as you see in the data.describe below? How would you handle it?\n",
        "What methods would you use?\n",
        "\n",
        "- Install pandasprofiling\n",
        "- Use it to create an EDA (Exploratory Data Analysis Report)\n",
        "- Find a way to replace the data that is 0.00 (and doesnt make sense : mean : numpy, find all 0.0 values and replace them)\n",
        "- Clean your data."
      ]
    },
    {
      "cell_type": "code",
      "execution_count": 8,
      "metadata": {
        "colab": {
          "base_uri": "https://localhost:8080/"
        },
        "id": "E1uHHPOG2A8W",
        "outputId": "e05485a0-013c-4f3e-de69-19cd0a2daf70"
      },
      "outputs": [
        {
          "output_type": "stream",
          "name": "stdout",
          "text": [
            "Descriptive Statistics:\n",
            "              Age         BMI  BloodPressure  DiabetesPedigreeFunction  \\\n",
            "count  768.000000  768.000000     768.000000                768.000000   \n",
            "mean    33.240885   31.992578      69.105469                  0.471876   \n",
            "std     11.760232    7.884160      19.355807                  0.331329   \n",
            "min     21.000000    0.000000       0.000000                  0.078000   \n",
            "25%     24.000000   27.300000      62.000000                  0.243750   \n",
            "50%     29.000000   32.000000      72.000000                  0.372500   \n",
            "75%     41.000000   36.600000      80.000000                  0.626250   \n",
            "max     81.000000   67.100000     122.000000                  2.420000   \n",
            "\n",
            "          Glucose     Insulin     Outcome  Pregnancies  SkinThickness  \n",
            "count  768.000000  768.000000  768.000000   768.000000     768.000000  \n",
            "mean   120.894531   79.799479    0.348958     3.845052      20.536458  \n",
            "std     31.972618  115.244002    0.476951     3.369578      15.952218  \n",
            "min      0.000000    0.000000    0.000000     0.000000       0.000000  \n",
            "25%     99.000000    0.000000    0.000000     1.000000       0.000000  \n",
            "50%    117.000000   30.500000    0.000000     3.000000      23.000000  \n",
            "75%    140.250000  127.250000    1.000000     6.000000      32.000000  \n",
            "max    199.000000  846.000000    1.000000    17.000000      99.000000  \n"
          ]
        }
      ],
      "source": [
        "# Generate descriptive statistics for the iris dataset\n",
        "print(\"Descriptive Statistics:\")\n",
        "print(data.describe().sort_index(axis=1))"
      ]
    },
    {
      "cell_type": "markdown",
      "metadata": {
        "id": "bi1iyPVg2A8X"
      },
      "source": [
        ">> Does it make sense to have BloodPressure of 0 in a person as you see in the data.describe below? How would you handle it?\n",
        "What methods would you use?\n",
        "\n",
        ">>>> It is highly unlikely and biologically impossible for a person to have a blood pressure of 0. Therefore, having a BloodPressure value of 0 in a given dataset is most likely a result of missing or incorrect data.\n",
        "\n",
        ">>>> To handle this issue, we can replace the 0 values with an appropriate value, such as the mean or median of the non-zero values. This approach assumes that the missing or incorrect values are randomly distributed and not biased towards any specific group or subgroup in the dataset.\n",
        ">>>> After replacing the 0 values with an appropriate value, it is important to perform data validation and sanity checks to ensure the data is reasonable and consistent with domain knowledge. Additionally, it is recommended to perform exploratory data analysis and visualization to identify any other potential issues with the data.\n",
        "\n",
        ">>>> To handle the issue of BloodPressure values being 0 in a given dataset, we can use the following methods:\n",
        "- Identify the rows where the BloodPressure value is 0 using boolean indexing in pandas.\n",
        "- Replace the 0 values with an appropriate value, such as the mean or median of non-zero BloodPressure values.\n",
        "- Perform data validation and sanity checks to ensure the data is reasonable and consistent with domain knowledge.\n",
        "- Perform exploratory data analysis and visualization to identify any other potential issues with the data.\n",
        "\n",
        "\n",
        "\n",
        "\n",
        "\n",
        "\n",
        "\n",
        "\n",
        "\n",
        "\n"
      ]
    },
    {
      "cell_type": "markdown",
      "metadata": {
        "id": "K6XtLfZk2A8Y"
      },
      "source": [
        "Install pandasprofiling\n",
        "- Use it to create an EDA (Exploratory Data Analysis Report)\n",
        "- Find a way to replace the data that is 0.00 (and doesnt make sense : mean : numpy, find all 0.0 values and replace them)\n",
        "- Clean your data."
      ]
    },
    {
      "cell_type": "markdown",
      "metadata": {
        "id": "m0eXAQF92A8Y"
      },
      "source": [
        "## Label Distribution (Classiffication Only)\n",
        "\n",
        "Why would someone check the label distribution in an ML/AI experiment?\n",
        "\n",
        "- `Class imbalance:` In some datasets, one class may be significantly more prevalent than the others. This can lead to a class imbalance problem, where the model is biased towards the majority class and performs poorly on the minority class. Checking the label distribution can help identify if there is a class imbalance problem in the data.\n",
        "\n",
        "- `Model performance:` The label distribution can impact the model's performance. If the model is trained on a dataset with a skewed label distribution, it may not generalize well to unseen data. Checking the label distribution can help ensure that the model is trained on a representative sample of the data.\n",
        "\n",
        "- `Data preprocessing:` Depending on the label distribution, different preprocessing techniques may be needed. For example, in a dataset with imbalanced labels, oversampling or undersampling techniques may be needed to balance the classes. Checking the label distribution can help determine what preprocessing techniques are needed.\n",
        "\n",
        "- `Data collection:` The label distribution can provide insights into the data collection process. For example, if a certain label is overrepresented, it may indicate that the data was collected in a biased way. Checking the label distribution can help identify potential biases in the data collection process.\n",
        "\n",
        "- `Domain knowledge:` Checking the label distribution can help provide insights into the problem domain. For example, if a certain label is underrepresented, it may indicate that the problem is rare or difficult to identify. Checking the label distribution can help the modeler understand the problem domain better."
      ]
    },
    {
      "cell_type": "code",
      "source": [
        "import pandas as pd\n",
        "import matplotlib.pyplot as plt\n",
        "\n",
        "# Load dataset\n",
        "df = pd.read_csv(\"diabetes.csv\")\n",
        "\n",
        "# Assuming the target label column is named 'Outcome' (change if different)\n",
        "label_col = 'Outcome'\n",
        "\n",
        "# Check label distribution (counts)\n",
        "label_counts = df[label_col].value_counts()\n",
        "print(\"Label Distribution:\")\n",
        "print(label_counts)\n",
        "\n",
        "# Visualize label distribution as a bar chart\n",
        "label_counts.plot(kind='bar', color=['skyblue', 'salmon'])\n",
        "plt.title('Label Distribution')\n",
        "plt.xlabel('Class')\n",
        "plt.ylabel('Number of samples')\n",
        "plt.xticks(rotation=0)\n",
        "plt.show()\n"
      ],
      "metadata": {
        "colab": {
          "base_uri": "https://localhost:8080/",
          "height": 559
        },
        "id": "E20pBpqq3tCY",
        "outputId": "6e15aab4-289b-448c-b57a-c3db0d495adb"
      },
      "execution_count": 9,
      "outputs": [
        {
          "output_type": "stream",
          "name": "stdout",
          "text": [
            "Label Distribution:\n",
            "Outcome\n",
            "0    500\n",
            "1    268\n",
            "Name: count, dtype: int64\n"
          ]
        },
        {
          "output_type": "display_data",
          "data": {
            "text/plain": [
              "<Figure size 640x480 with 1 Axes>"
            ],
            "image/png": "[encoded data removed]"
          },
          "metadata": {}
        }
      ]
    },
    {
      "cell_type": "markdown",
      "metadata": {
        "id": "0c_5nkMf2A8Z"
      },
      "source": [
        "## Correlation\n",
        "\n",
        "Correlation refers to the relationship between two variables and how they may or may not change together. The most common method for calculating correlation is Pearson's Correlation Coefficient, that assumes a normal distribution of the attributes involved.\n",
        "\n",
        "`A correlation of -1 or 1 shows a full negative or positive correlation respectively.`\n",
        "\n",
        "Whereas a value of 0 shows no correlation at all. Some machine learning algorithms like linear and logistic regression can suffer poor performance if there are highly correlated attributes in your dataset. `It is important to know the assumptions of the model you are using before using it`\n",
        "\n",
        "---\n",
        "\n",
        "### Model Assumptions:\n",
        "\n",
        "The supporting reasons for checking the assumptions of a model in an ML experiment, and how it affects how you handle data in the case of a linear regression model.\n",
        "\n",
        "- `Ensures validity of results:` Checking the assumptions of a linear regression model ensures the validity of the results. If the assumptions are not met, the results obtained from the model may not be reliable or valid. For example, if the assumption of linearity is not met, the results obtained from the model may not accurately reflect the relationship between the dependent and independent variables.\n",
        "\n",
        "- `Helps in selecting appropriate variables:` Checking the assumptions of a linear regression model helps in selecting appropriate variables for the model. For example, if the assumption of normality is not met, it may indicate that some variables may not be appropriate for the model or may need to be transformed.\n",
        "\n",
        "- `Improves model accuracy:` Checking the assumptions of a linear regression model can help in improving the accuracy of the model. For example, if the assumption of homoscedasticity is not met, it may indicate that the model needs to be transformed or that a different model may be more appropriate.\n",
        "\n",
        "- `Guides data preparation:` Checking the assumptions of a linear regression model guides data preparation. For example, if the assumption of independence is not met, it may indicate that the data needs to be collected differently or that some observations need to be excluded from the analysis.\n",
        "\n",
        "- `Provides insights into underlying data:` Checking the assumptions of a linear regression model provides insights into the underlying data. For example, if the assumption of normality is not met, it may indicate that there are outliers or that the data is skewed.\n",
        "\n",
        "#### `Comparison of Assumptions between Linear Regression and Logistic Regression`\n",
        "---\n",
        "\n",
        "`Assumptions of Linear Regression Model:`\n",
        "\n",
        "- Linearity: The relationship between the dependent variable and independent variable is linear.\n",
        "- Independence: The observations are independent of each other.\n",
        "- Homoscedasticity: The variance of the errors is constant across all levels of the independent variable.\n",
        "- Normality: The errors follow a normal distribution.\n",
        "- No multicollinearity: There is no high correlation among the independent variables.\n",
        "\n",
        "`Assumptions of Logistic Regression Model:`\n",
        "\n",
        "- Linearity of the logit: The relationship between the independent variable and the logit of the dependent variable is linear.\n",
        "- Independence: The observations are independent of each other.\n",
        "- No multicollinearity: There is no high correlation among the independent variables.\n",
        "- Large sample size: There are a sufficient number of observations for each combination of the independent variables.\n",
        "- No outliers: There are no extreme observations that can influence the results.\n",
        "\n",
        "---\n",
        "\n",
        "As such, it is a good idea to review all of the pairwise correlations of the attributes in your dataset. You can use the corr() function on the Pandas DataFrame to calculate a correlation matrix.\n",
        "\n",
        "There are several reasons why one would consider the correlation between variables while doing machine learning:\n",
        "\n",
        "- `Identify redundant features:` Correlated features can be redundant and provide similar information. Including highly correlated features in a model can lead to overfitting and decrease the model's performance. Identifying and removing these features can help reduce the complexity of the model and improve its accuracy.\n",
        "\n",
        ">> Suppose you are building a model to predict the price of a house based on its size, number of bedrooms, number of bathrooms, and location. The number of bedrooms and number of bathrooms are highly correlated, and including both features in the model can lead to overfitting. By identifying the correlation between these two features and removing one of them, we can reduce the complexity of the model.\n",
        "\n",
        "- `Improve model interpretability:` Understanding the correlation between variables can help to explain the relationships between the features and the target variable. This understanding can improve the interpretability of the model and help to identify important features that contribute most to the prediction.\n",
        "\n",
        ">> Consider a model that predicts whether a customer will buy a product based on their age, income, and education level. By analyzing the correlation between these features and the target variable, we can determine that income has the strongest correlation with the target variable. This understanding can help to explain why income is a critical factor in determining whether a customer buys a product, and improve the interpretability of the model.\n",
        "\n",
        "- `Data preprocessing:` Correlation analysis can be used to identify and remove outliers and missing values in the dataset. This process can help to improve the quality of the data and the model's performance.\n",
        "\n",
        ">> Suppose you are building a model to predict the likelihood of a customer to churn (i.e., leave) a subscription-based service. The dataset includes missing values and outliers, which can affect the quality of the data and the model's performance. By analyzing the correlation between the features and the target variable, we can identify and remove outliers and fill in missing values, which can help to improve the quality of the data and the model's performance.\n",
        "\n",
        "- `Feature engineering:` Correlation analysis can help in creating new features that can improve the model's performance. For example, we can create a new feature by combining highly correlated features or by performing operations on correlated features to create a new feature that is more predictive.\n",
        "\n",
        ">> Consider a model that predicts whether a student will pass a test based on their study hours, attendance rate, and average grade. By analyzing the correlation between these features, we can create a new feature by multiplying the study hours and attendance rate, which are highly correlated. This new feature can be more predictive than either feature alone, and can help to improve the model's performance."
      ]
    },
    {
      "cell_type": "code",
      "source": [
        "import pandas as pd\n",
        "import matplotlib.pyplot as plt\n",
        "import seaborn as sns\n",
        "\n",
        "# Load your dataset\n",
        "df = pd.read_csv(\"diabetes.csv\")\n",
        "\n",
        "# Calculate correlation matrix (Pearson by default)\n",
        "corr_matrix = df.corr()\n",
        "\n",
        "# Print correlation matrix\n",
        "print(\"Correlation matrix:\")\n",
        "print(corr_matrix)\n",
        "\n",
        "# Visualize the correlation matrix using a heatmap\n",
        "plt.figure(figsize=(10, 8))\n",
        "sns.heatmap(corr_matrix, annot=True, fmt=\".2f\", cmap='coolwarm', square=True, cbar_kws={\"shrink\": .8})\n",
        "plt.title(\"Correlation Matrix Heatmap\")\n",
        "plt.show()\n"
      ],
      "metadata": {
        "id": "9uIUUlph33aq",
        "colab": {
          "base_uri": "https://localhost:8080/",
          "height": 1000
        },
        "outputId": "5b7262aa-0656-41ff-eb03-ad9e8de5589d"
      },
      "execution_count": 10,
      "outputs": [
        {
          "output_type": "stream",
          "name": "stdout",
          "text": [
            "Correlation matrix:\n",
            "                          Pregnancies   Glucose  BloodPressure  SkinThickness  \\\n",
            "Pregnancies                  1.000000  0.129459       0.141282      -0.081672   \n",
            "Glucose                      0.129459  1.000000       0.152590       0.057328   \n",
            "BloodPressure                0.141282  0.152590       1.000000       0.207371   \n",
            "SkinThickness               -0.081672  0.057328       0.207371       1.000000   \n",
            "Insulin                     -0.073535  0.331357       0.088933       0.436783   \n",
            "BMI                          0.017683  0.221071       0.281805       0.392573   \n",
            "DiabetesPedigreeFunction    -0.033523  0.137337       0.041265       0.183928   \n",
            "Age                          0.544341  0.263514       0.239528      -0.113970   \n",
            "Outcome                      0.221898  0.466581       0.065068       0.074752   \n",
            "\n",
            "                           Insulin       BMI  DiabetesPedigreeFunction  \\\n",
            "Pregnancies              -0.073535  0.017683                 -0.033523   \n",
            "Glucose                   0.331357  0.221071                  0.137337   \n",
            "BloodPressure             0.088933  0.281805                  0.041265   \n",
            "SkinThickness             0.436783  0.392573                  0.183928   \n",
            "Insulin                   1.000000  0.197859                  0.185071   \n",
            "BMI                       0.197859  1.000000                  0.140647   \n",
            "DiabetesPedigreeFunction  0.185071  0.140647                  1.000000   \n",
            "Age                      -0.042163  0.036242                  0.033561   \n",
            "Outcome                   0.130548  0.292695                  0.173844   \n",
            "\n",
            "                               Age   Outcome  \n",
            "Pregnancies               0.544341  0.221898  \n",
            "Glucose                   0.263514  0.466581  \n",
            "BloodPressure             0.239528  0.065068  \n",
            "SkinThickness            -0.113970  0.074752  \n",
            "Insulin                  -0.042163  0.130548  \n",
            "BMI                       0.036242  0.292695  \n",
            "DiabetesPedigreeFunction  0.033561  0.173844  \n",
            "Age                       1.000000  0.238356  \n",
            "Outcome                   0.238356  1.000000  \n"
          ]
        },
        {
          "output_type": "display_data",
          "data": {
            "text/plain": [
              "<Figure size 1000x800 with 2 Axes>"
            ],
            "image/png": "[encoded data removed]"
          },
          "metadata": {}
        }
      ]
    },
    {
      "cell_type": "markdown",
      "metadata": {
        "id": "es56jwtC2A8Z"
      },
      "source": [
        "### Note: Feature and Label Correlation\n",
        "`Feature selection:` Correlation analysis can help identify which variables are strongly correlated with the label and, therefore, are potentially good features for use in the model. Feature selection is important to prevent overfitting and improve the accuracy of the model."
      ]
    },
    {
      "cell_type": "markdown",
      "metadata": {
        "id": "Gsr5r9PQ2A8Z"
      },
      "source": [
        "# Prepare Your Data For Machine Learning\n",
        "\n",
        "Many machine learning algorithms make assumptions about your data. It is often a very good\n",
        "idea to prepare your data in such way to best expose the structure of the problem to the machine\n",
        "learning algorithms that you intend to use. In this chapter you will discover how to prepare\n",
        "your data for machine learning in Python using scikit-learn. After completing this lesson you\n",
        "will know how to:\n",
        "\n",
        "1. Rescale data.\n",
        "2. Standardize data.\n",
        "3. Normalize data.\n",
        "4. Binarize data.\n",
        "\n",
        "\n",
        "### Need For Data Pre-processing\n",
        "You almost always need to pre-process your data. It is a required step. A difficulty is that\n",
        "different algorithms make different assumptions about your data and may require different\n",
        "transforms. Further, when you follow all of the rules and prepare your data, sometimes algorithms\n",
        "can deliver better results without pre-processing.\n",
        "Generally, I would recommend creating many different views and transforms of your data,\n",
        "then exercise a handful of algorithms on each view of your dataset. This will help you to\n",
        "ush\n",
        "out which data transforms might be better at exposing the structure of your problem in general.\n",
        "\n",
        "The steps involved are as below:\n",
        "\n",
        "- Split the dataset into the input and output variables for machine learning.\n",
        "- Apply a pre-processing transform to the input variables.\n",
        "- Summarize the data to show the change.\n",
        "\n",
        "The scikit-learn library provides two standard idioms for transforming data. Each are useful\n",
        "in different circumstances. The transforms are calculated in such a way that they can be applied\n",
        "to your training data and any samples of data you may have in the future. The scikit-learn\n",
        "documentation has some information on how to use various different pre-processing methods:\n",
        "\n",
        "The Fit and Multiple Transform method is the preferred approach. You call the fit()\n",
        "function to prepare the parameters of the transform once on your data. Then later you can use\n",
        "the transform() function on the same data to prepare it for modeling and again on the test or\n",
        "validation dataset or new data that you may see in the future. The Combined Fit-And-Transform\n",
        "is a convenience that you can use for one of the tasks. This might be useful if you are interested\n",
        "in plotting or summarizing the transformed data.\n",
        "\n",
        "\n",
        "## Rescale Data\n",
        "\n",
        "In machine learning, `rescaling refers to the process of transforming the values of a variable to a new scale`, typically to a specific range or distribution. Rescaling is often used as a data preprocessing step to prepare the data for use in a machine learning model.\n",
        "\n",
        "Rescaling can be achieved using various techniques, including normalization and standardization, as well as other methods such as `min-max scaling` and `log transformation`. The choice of rescaling technique depends on the nature of the data and the specific requirements of the model.\n",
        "\n",
        "Rescaling is important in machine learning because it can help to improve the performance of the model by reducing the impact of features that have large values or different scales. Rescaling can also help to simplify the interpretation of the model by making the features more comparable and understandable.\n",
        "\n",
        "- `Avoiding numerical instability:` In some machine learning algorithms, such as gradient-based optimization algorithms, the scale of the input features can affect the convergence of the algorithm. Rescaling the data can help avoid numerical instability and improve the convergence of the algorithm.\n",
        "\n",
        "- `Improving performance:` Rescaling the data can improve the performance of the model, especially when using distance-based algorithms or when the features have different scales. In distance-based algorithms, the distance between two data points is affected by the scale of the features, so rescaling the data can make the distance more meaningful. Similarly, when the features have different scales, rescaling can help give equal importance to all features.\n",
        "\n",
        "- `Reducing computational complexity:` Rescaling the data can reduce the computational complexity of some machine learning algorithms, such as support vector machines. When the features have different scales, some algorithms may require more computation to converge, and rescaling can help reduce this complexity.\n",
        "\n",
        "- `Normalization:` As mentioned in the previous answer, rescaling can be used for normalization, which is a technique used to rescale data to a specific range, typically between 0 and 1. Normalization can help in comparing variables that have different units or scales or when we want to give more importance to small values.\n"
      ]
    },
    {
      "cell_type": "code",
      "source": [
        "import pandas as pd\n",
        "from sklearn.preprocessing import MinMaxScaler, StandardScaler, Normalizer, Binarizer\n",
        "\n",
        "# Load dataset\n",
        "df = pd.read_csv(\"diabetes.csv\")\n",
        "\n",
        "# Split into input features (X) and target variable (y)\n",
        "X = df.drop('Outcome', axis=1)  # assuming 'Outcome' is the label column\n",
        "y = df['Outcome']\n",
        "\n",
        "# 1. Rescale data (Min-Max scaling to [0,1])\n",
        "scaler = MinMaxScaler()\n",
        "X_rescaled = scaler.fit_transform(X)\n",
        "\n",
        "# 2. Standardize data (mean=0, std=1)\n",
        "standardizer = StandardScaler()\n",
        "X_standardized = standardizer.fit_transform(X)\n",
        "\n",
        "# 3. Normalize data (scale samples to unit norm)\n",
        "normalizer = Normalizer()\n",
        "X_normalized = normalizer.fit_transform(X)\n",
        "\n",
        "# 4. Binarize data (threshold = 0.5)\n",
        "binarizer = Binarizer(threshold=0.5)\n",
        "X_binarized = binarizer.fit_transform(X)\n",
        "\n",
        "# Example: print the first 5 rows after standardization\n",
        "print(\"First 5 rows after standardization:\")\n",
        "print(X_standardized[:5])\n"
      ],
      "metadata": {
        "colab": {
          "base_uri": "https://localhost:8080/"
        },
        "id": "1OnD03kj6uM9",
        "outputId": "38827785-f59e-4541-de1a-2b6881f01840"
      },
      "execution_count": 11,
      "outputs": [
        {
          "output_type": "stream",
          "name": "stdout",
          "text": [
            "First 5 rows after standardization:\n",
            "[[ 0.63994726  0.84832379  0.14964075  0.90726993 -0.69289057  0.20401277\n",
            "   0.46849198  1.4259954 ]\n",
            " [-0.84488505 -1.12339636 -0.16054575  0.53090156 -0.69289057 -0.68442195\n",
            "  -0.36506078 -0.19067191]\n",
            " [ 1.23388019  1.94372388 -0.26394125 -1.28821221 -0.69289057 -1.10325546\n",
            "   0.60439732 -0.10558415]\n",
            " [-0.84488505 -0.99820778 -0.16054575  0.15453319  0.12330164 -0.49404308\n",
            "  -0.92076261 -1.04154944]\n",
            " [-1.14185152  0.5040552  -1.50468724  0.90726993  0.76583594  1.4097456\n",
            "   5.4849091  -0.0204964 ]]\n"
          ]
        }
      ]
    },
    {
      "cell_type": "markdown",
      "metadata": {
        "id": "f_xdMXqK2A8a"
      },
      "source": [
        "## Standardize Data\n",
        "Standardization is a useful technique to transform attributes with a Gaussian distribution and\n",
        "differing means and standard deviations to a standard Gaussian distribution with a mean of\n",
        "0 and a standard deviation of 1.\n",
        "\n",
        "`Standardization`, also known as `z-score normalization`, is a technique used to `transform data so that it has zero mean and unit variance`. This is achieved by `subtracting the mean of the data and dividing by its standard deviation.` The resulting transformed data has `a mean of 0` and a `standard deviation of 1`. Standardization is often used when the distribution of the data is approximately normal or when we want to give equal importance to all features.\n",
        "\n",
        "__`It is most suitable for techniques that assume a Gaussian distribution in the input variables and work better with rescaled data, such as linear regression, logistic regression and linear discriminate analysis.`__\n",
        "\n",
        "Example in Skearn"
      ]
    },
    {
      "cell_type": "code",
      "source": [
        "import pandas as pd\n",
        "from sklearn.preprocessing import StandardScaler\n",
        "\n",
        "# Load dataset\n",
        "df = pd.read_csv(\"diabetes.csv\")\n",
        "\n",
        "# Separate features and target label\n",
        "X = df.drop('Outcome', axis=1)  # Replace 'Outcome' with your label column\n",
        "y = df['Outcome']\n",
        "\n",
        "# Initialize the StandardScaler\n",
        "scaler = StandardScaler()\n",
        "\n",
        "# Fit on training data and transform it\n",
        "X_standardized = scaler.fit_transform(X)\n",
        "\n",
        "# Convert back to DataFrame for easier inspection (optional)\n",
        "X_standardized_df = pd.DataFrame(X_standardized, columns=X.columns)\n",
        "\n",
        "# Show the first 5 rows of standardized features\n",
        "print(X_standardized_df.head())\n",
        "\n"
      ],
      "metadata": {
        "colab": {
          "base_uri": "https://localhost:8080/"
        },
        "id": "qV0twMPV65dT",
        "outputId": "eca9bca2-1eb7-48c3-b34c-bf01d5a9edb1"
      },
      "execution_count": 12,
      "outputs": [
        {
          "output_type": "stream",
          "name": "stdout",
          "text": [
            "   Pregnancies   Glucose  BloodPressure  SkinThickness   Insulin       BMI  \\\n",
            "0     0.639947  0.848324       0.149641       0.907270 -0.692891  0.204013   \n",
            "1    -0.844885 -1.123396      -0.160546       0.530902 -0.692891 -0.684422   \n",
            "2     1.233880  1.943724      -0.263941      -1.288212 -0.692891 -1.103255   \n",
            "3    -0.844885 -0.998208      -0.160546       0.154533  0.123302 -0.494043   \n",
            "4    -1.141852  0.504055      -1.504687       0.907270  0.765836  1.409746   \n",
            "\n",
            "   DiabetesPedigreeFunction       Age  \n",
            "0                  0.468492  1.425995  \n",
            "1                 -0.365061 -0.190672  \n",
            "2                  0.604397 -0.105584  \n",
            "3                 -0.920763 -1.041549  \n",
            "4                  5.484909 -0.020496  \n"
          ]
        }
      ]
    },
    {
      "cell_type": "markdown",
      "metadata": {
        "id": "_QhA8ChM2A8a"
      },
      "source": [
        "## Normalize Data\n",
        "Normalizing in scikit-learn refers to rescaling each observation (row) to have a length of 1 (called\n",
        "a unit norm or a vector with the length of 1 in linear algebra).\n",
        "\n",
        "`Normalization`, on the other hand, is `a technique used to rescale data to a specific range, typically between 0 and 1.` This is achieved by `subtracting the minimum value of the data and dividing by the range` (i.e., the difference between the maximum and minimum values). Normalization is often used when we want to compare variables that have different units or scales or when we want to give more importance to small values.\n",
        "\n",
        "__`This pre-processing method can be useful for sparse datasets (lots of zeros) with attributes of varying scales when using algorithms that weight input values such as neural networks and algorithms that use distance measures such as k-Nearest Neighbors.`__\n",
        "\n",
        "Example in Skearn"
      ]
    },
    {
      "cell_type": "code",
      "execution_count": 13,
      "metadata": {
        "id": "cZnbTwYc2A8b",
        "colab": {
          "base_uri": "https://localhost:8080/"
        },
        "outputId": "ea09d890-5b05-4f84-a4a0-adec29a898ee"
      },
      "outputs": [
        {
          "output_type": "stream",
          "name": "stdout",
          "text": [
            "   Pregnancies   Glucose  BloodPressure  SkinThickness   Insulin       BMI  \\\n",
            "0     0.033552  0.827625       0.402628       0.195722  0.000000  0.187893   \n",
            "1     0.008424  0.716040       0.555984       0.244296  0.000000  0.224079   \n",
            "2     0.040398  0.924097       0.323181       0.000000  0.000000  0.117658   \n",
            "3     0.006612  0.588467       0.436392       0.152076  0.621527  0.185797   \n",
            "4     0.000000  0.596386       0.174127       0.152361  0.731335  0.187622   \n",
            "\n",
            "   DiabetesPedigreeFunction       Age  \n",
            "0                  0.003506  0.279603  \n",
            "1                  0.002957  0.261144  \n",
            "2                  0.003393  0.161591  \n",
            "3                  0.001104  0.138852  \n",
            "4                  0.009960  0.143655  \n"
          ]
        }
      ],
      "source": [
        "import pandas as pd\n",
        "from sklearn.preprocessing import Normalizer\n",
        "\n",
        "# Load dataset\n",
        "df = pd.read_csv(\"diabetes.csv\")\n",
        "\n",
        "# Separate features and target label\n",
        "X = df.drop('Outcome', axis=1)  # Replace 'Outcome' with your target column\n",
        "y = df['Outcome']\n",
        "\n",
        "# Initialize Normalizer with default L2 norm\n",
        "normalizer = Normalizer()\n",
        "\n",
        "# Fit and transform features\n",
        "X_normalized = normalizer.fit_transform(X)\n",
        "\n",
        "# Optional: Convert to DataFrame for inspection\n",
        "X_normalized_df = pd.DataFrame(X_normalized, columns=X.columns)\n",
        "\n",
        "# Display the first 5 normalized rows\n",
        "print(X_normalized_df.head())\n"
      ]
    },
    {
      "cell_type": "markdown",
      "metadata": {
        "id": "IxaleS3B2A8b"
      },
      "source": [
        "### Algorithm Spot-Checking\n",
        "\n",
        "Algorithm spot-checking is a process in machine learning where multiple algorithms are tested and compared on a specific dataset to identify the one that performs the best for a given task. It involves evaluating the performance of various algorithms using a set of standard evaluation metrics, such as accuracy, precision, recall, F1 score, and ROC-AUC score, among others. The goal of algorithm spot-checking is to find the best algorithm that can accurately model the underlying pattern in the data and generalize well to new, unseen data. By trying out multiple algorithms and comparing their performance, algorithm spot-checking helps data scientists and machine learning practitioners to identify the best algorithm for their specific task and improve the overall performance of their models.\n",
        "\n",
        "- `Determine the Best Algorithm:` Spot-checking allows you to compare the performance of multiple algorithms on the same dataset and select the best one for your specific task. Different algorithms are suited to different types of problems, and spot-checking helps you find the one that performs the best on your data.\n",
        "\n",
        "- `Save Time:` Trying out multiple algorithms manually can be time-consuming and inefficient. With algorithm spot-checking, you can automate the process of testing different models, which can save you time and effort.\n",
        "\n",
        "- `Improve Accuracy:` By testing multiple algorithms and comparing their performance, you can improve the accuracy of your model. This is because different algorithms have different strengths and weaknesses, and by choosing the best one for your task, you can improve the overall accuracy of your model.\n",
        "\n",
        "- `Reduce Overfitting:` Overfitting occurs when a model is too complex and captures noise instead of the underlying pattern in the data. By comparing the performance of multiple algorithms, you can identify the one that is less prone to overfitting and select it for your model.\n",
        "\n",
        "- `Gain Insights:` Algorithm spot-checking can also provide valuable insights into the characteristics of your data. By analyzing the performance of different algorithms, you can gain a better understanding of the patterns and relationships within your data, which can help you develop better models in the future.\n",
        "\n",
        "\n",
        "\n",
        "#### Algorithms Overview\n",
        "We are going to take a look at six classification algorithms that you can spot-check on your\n",
        "dataset. Starting with two linear machine learning algorithms:\n",
        "- Logistic Regression.\n",
        "- Linear Discriminant Analysis.\n",
        "- Naive Bayes.\n",
        "\n",
        "Then looking at four nonlinear machine learning algorithms:\n",
        "- k-Nearest Neighbors.\n",
        "- Classification and Regression Trees.\n",
        "- Support Vector Machines.\n",
        "\n",
        "### Linear Machine Learning Algorithms\n",
        "This section demonstrates minimal recipes for how to use two linear machine learning algorithms:\n",
        "`logistic regression` and `linear discriminant analysis`.\n",
        "\n",
        "#### Logistic Regression"
      ]
    },
    {
      "cell_type": "code",
      "source": [
        "import pandas as pd\n",
        "from sklearn.model_selection import train_test_split, cross_val_score\n",
        "from sklearn.linear_model import LogisticRegression\n",
        "from sklearn.discriminant_analysis import LinearDiscriminantAnalysis\n",
        "from sklearn.naive_bayes import GaussianNB\n",
        "from sklearn.neighbors import KNeighborsClassifier\n",
        "from sklearn.tree import DecisionTreeClassifier\n",
        "from sklearn.svm import SVC\n",
        "\n",
        "# Load dataset\n",
        "df = pd.read_csv(\"diabetes.csv\")\n",
        "\n",
        "# Prepare data\n",
        "X = df.drop('Outcome', axis=1)  # Change 'Outcome' to your target column\n",
        "y = df['Outcome']\n",
        "\n",
        "# Split into train/test sets (optional, you can also use cross-validation directly)\n",
        "X_train, X_test, y_train, y_test = train_test_split(X, y, test_size=0.2, random_state=42)\n",
        "\n",
        "# Define models to spot-check\n",
        "models = []\n",
        "models.append(('Logistic Regression', LogisticRegression(max_iter=200)))\n",
        "models.append(('Linear Discriminant Analysis', LinearDiscriminantAnalysis()))\n",
        "models.append(('Naive Bayes', GaussianNB()))\n",
        "models.append(('K-Nearest Neighbors', KNeighborsClassifier()))\n",
        "models.append(('Decision Tree', DecisionTreeClassifier()))\n",
        "models.append(('Support Vector Machine', SVC()))\n",
        "\n",
        "# Evaluate each model using 10-fold cross-validation\n",
        "results = []\n",
        "names = []\n",
        "\n",
        "for name, model in models:\n",
        "    cv_results = cross_val_score(model, X_train, y_train, cv=10, scoring='accuracy')\n",
        "    results.append(cv_results)\n",
        "    names.append(name)\n",
        "    print(f\"{name}: Mean Accuracy = {cv_results.mean():.4f} (+/- {cv_results.std():.4f})\")\n",
        "\n",
        "# You can later pick the best performing model based on mean accuracy or other metrics\n"
      ],
      "metadata": {
        "colab": {
          "base_uri": "https://localhost:8080/"
        },
        "id": "TJ8GuAII7XF7",
        "outputId": "56fec3ad-21dd-4791-e070-af27f7901dd1"
      },
      "execution_count": 14,
      "outputs": [
        {
          "output_type": "stream",
          "name": "stdout",
          "text": [
            "Logistic Regression: Mean Accuracy = 0.7654 (+/- 0.0397)\n",
            "Linear Discriminant Analysis: Mean Accuracy = 0.7638 (+/- 0.0409)\n",
            "Naive Bayes: Mean Accuracy = 0.7476 (+/- 0.0477)\n",
            "K-Nearest Neighbors: Mean Accuracy = 0.7217 (+/- 0.0478)\n",
            "Decision Tree: Mean Accuracy = 0.7020 (+/- 0.0410)\n",
            "Support Vector Machine: Mean Accuracy = 0.7590 (+/- 0.0331)\n"
          ]
        }
      ]
    },
    {
      "cell_type": "markdown",
      "metadata": {
        "id": "Wevd1a6Z2A8c"
      },
      "source": [
        "#### Linear Discriminant Analysis"
      ]
    },
    {
      "cell_type": "code",
      "execution_count": 15,
      "metadata": {
        "colab": {
          "base_uri": "https://localhost:8080/"
        },
        "id": "98M3S_QK2A8c",
        "outputId": "6c95b99f-df40-45c6-cf0a-67776458ee15"
      },
      "outputs": [
        {
          "output_type": "stream",
          "name": "stdout",
          "text": [
            "Accuracy: 0.7597\n",
            "\n",
            "Classification Report:\n",
            "              precision    recall  f1-score   support\n",
            "\n",
            "           0       0.82      0.81      0.81        99\n",
            "           1       0.66      0.67      0.67        55\n",
            "\n",
            "    accuracy                           0.76       154\n",
            "   macro avg       0.74      0.74      0.74       154\n",
            "weighted avg       0.76      0.76      0.76       154\n",
            "\n"
          ]
        }
      ],
      "source": [
        "import pandas as pd\n",
        "from sklearn.discriminant_analysis import LinearDiscriminantAnalysis\n",
        "from sklearn.model_selection import train_test_split\n",
        "from sklearn.metrics import accuracy_score, classification_report\n",
        "\n",
        "# Load dataset\n",
        "df = pd.read_csv(\"diabetes.csv\")\n",
        "\n",
        "# Features and target\n",
        "X = df.drop('Outcome', axis=1)  # replace 'Outcome' with your label column name\n",
        "y = df['Outcome']\n",
        "\n",
        "# Split data into train and test sets\n",
        "X_train, X_test, y_train, y_test = train_test_split(X, y, test_size=0.2, random_state=42)\n",
        "\n",
        "# Initialize LDA model\n",
        "lda = LinearDiscriminantAnalysis()\n",
        "\n",
        "# Train the model\n",
        "lda.fit(X_train, y_train)\n",
        "\n",
        "# Make predictions\n",
        "y_pred = lda.predict(X_test)\n",
        "\n",
        "# Evaluate accuracy\n",
        "print(f\"Accuracy: {accuracy_score(y_test, y_pred):.4f}\")\n",
        "\n",
        "# More detailed classification report\n",
        "print(\"\\nClassification Report:\")\n",
        "print(classification_report(y_test, y_pred))\n"
      ]
    },
    {
      "cell_type": "markdown",
      "metadata": {
        "id": "YnKKuKGm2A8c"
      },
      "source": [
        "## Nonlinear Machine Learning Algorithms\n",
        "\n",
        "### k-Nearest Neighbors"
      ]
    },
    {
      "cell_type": "markdown",
      "metadata": {
        "id": "8DPCmwT02A8d"
      },
      "source": [
        "## Classiffication and Regression Trees\n"
      ]
    },
    {
      "cell_type": "code",
      "execution_count": 16,
      "metadata": {
        "id": "-jCp5yk42A8d",
        "colab": {
          "base_uri": "https://localhost:8080/"
        },
        "outputId": "fb6c018e-254f-4dd4-fa7b-5350b000b189"
      },
      "outputs": [
        {
          "output_type": "stream",
          "name": "stdout",
          "text": [
            "Accuracy: 0.7468\n",
            "\n",
            "Classification Report:\n",
            "              precision    recall  f1-score   support\n",
            "\n",
            "           0       0.83      0.76      0.79        99\n",
            "           1       0.62      0.73      0.67        55\n",
            "\n",
            "    accuracy                           0.75       154\n",
            "   macro avg       0.73      0.74      0.73       154\n",
            "weighted avg       0.76      0.75      0.75       154\n",
            "\n"
          ]
        }
      ],
      "source": [
        "import pandas as pd\n",
        "from sklearn.tree import DecisionTreeClassifier\n",
        "from sklearn.model_selection import train_test_split\n",
        "from sklearn.metrics import accuracy_score, classification_report\n",
        "\n",
        "# Load dataset\n",
        "df = pd.read_csv(\"diabetes.csv\")\n",
        "\n",
        "# Separate features and target\n",
        "X = df.drop('Outcome', axis=1)  # Replace 'Outcome' with your target column name\n",
        "y = df['Outcome']\n",
        "\n",
        "# Split into training and testing sets\n",
        "X_train, X_test, y_train, y_test = train_test_split(X, y, test_size=0.2, random_state=42)\n",
        "\n",
        "# Initialize Decision Tree Classifier\n",
        "dt = DecisionTreeClassifier(random_state=42)\n",
        "\n",
        "# Train the model\n",
        "dt.fit(X_train, y_train)\n",
        "\n",
        "# Make predictions\n",
        "y_pred = dt.predict(X_test)\n",
        "\n",
        "# Evaluate accuracy\n",
        "print(f\"Accuracy: {accuracy_score(y_test, y_pred):.4f}\")\n",
        "\n",
        "# Detailed classification report\n",
        "print(\"\\nClassification Report:\")\n",
        "print(classification_report(y_test, y_pred))\n"
      ]
    },
    {
      "cell_type": "markdown",
      "metadata": {
        "id": "NsgIPL_w2A8d"
      },
      "source": [
        "## Support Vector Machines"
      ]
    },
    {
      "cell_type": "code",
      "execution_count": 17,
      "metadata": {
        "id": "xrVuRbG92A8d",
        "colab": {
          "base_uri": "https://localhost:8080/"
        },
        "outputId": "cafc98f6-9d8f-476f-c497-efecca91d937"
      },
      "outputs": [
        {
          "output_type": "stream",
          "name": "stdout",
          "text": [
            "Accuracy: 0.7338\n",
            "\n",
            "Classification Report:\n",
            "              precision    recall  f1-score   support\n",
            "\n",
            "           0       0.77      0.83      0.80        99\n",
            "           1       0.65      0.56      0.60        55\n",
            "\n",
            "    accuracy                           0.73       154\n",
            "   macro avg       0.71      0.70      0.70       154\n",
            "weighted avg       0.73      0.73      0.73       154\n",
            "\n"
          ]
        }
      ],
      "source": [
        "import pandas as pd\n",
        "from sklearn.svm import SVC\n",
        "from sklearn.model_selection import train_test_split\n",
        "from sklearn.preprocessing import StandardScaler\n",
        "from sklearn.metrics import accuracy_score, classification_report\n",
        "\n",
        "# Load dataset\n",
        "df = pd.read_csv(\"diabetes.csv\")\n",
        "\n",
        "# Split features and target\n",
        "X = df.drop('Outcome', axis=1)  # Replace 'Outcome' with your label column\n",
        "y = df['Outcome']\n",
        "\n",
        "# Split into train and test sets\n",
        "X_train, X_test, y_train, y_test = train_test_split(X, y, test_size=0.2, random_state=42)\n",
        "\n",
        "# Feature scaling is important for SVM\n",
        "scaler = StandardScaler()\n",
        "X_train_scaled = scaler.fit_transform(X_train)\n",
        "X_test_scaled = scaler.transform(X_test)\n",
        "\n",
        "# Initialize SVM with RBF kernel (default)\n",
        "svm = SVC(kernel='rbf', random_state=42)\n",
        "\n",
        "# Train the model\n",
        "svm.fit(X_train_scaled, y_train)\n",
        "\n",
        "# Predict on test set\n",
        "y_pred = svm.predict(X_test_scaled)\n",
        "\n",
        "# Evaluate accuracy\n",
        "print(f\"Accuracy: {accuracy_score(y_test, y_pred):.4f}\")\n",
        "\n",
        "# Detailed classification report\n",
        "print(\"\\nClassification Report:\")\n",
        "print(classification_report(y_test, y_pred))\n"
      ]
    },
    {
      "cell_type": "markdown",
      "metadata": {
        "id": "-MVzCRFs2A8e"
      },
      "source": [
        "# Spot-Check Regression Algorithms\n",
        "\n",
        "- Linear Regression.\n",
        "- Ridge Regression.\n",
        "- LASSO Linear Regression.\n",
        "- Elastic Net Regression.\n",
        "\n",
        "Then looking at three nonlinear machine learning algorithms:\n",
        "- k-Nearest Neighbors.\n",
        "- Classification and Regression Trees.\n",
        "- Support Vector Machines.\n",
        "\n",
        "### Linear Regression\n",
        "Linear regression assumes that the input variables have a Gaussian distribution. It is also\n",
        "assumed that input variables are relevant to the output variable and that they are not highly\n",
        "correlated with each other (a problem called collinearity). You can construct a linear regression\n",
        "model using the LinearRegression class."
      ]
    },
    {
      "cell_type": "code",
      "execution_count": 18,
      "metadata": {
        "id": "EetGvsm_2A8e",
        "colab": {
          "base_uri": "https://localhost:8080/"
        },
        "outputId": "98e78f24-6313-4515-ad9c-17b93a487878"
      },
      "outputs": [
        {
          "output_type": "stream",
          "name": "stdout",
          "text": [
            "Linear Regression R^2 score on entire dataset: 0.303253095650892\n"
          ]
        }
      ],
      "source": [
        "from sklearn.linear_model import LinearRegression\n",
        "\n",
        "# Create and fit the Linear Regression model\n",
        "linreg = LinearRegression()\n",
        "linreg.fit(X, y)\n",
        "\n",
        "# Print model R^2 score on the dataset\n",
        "print(\"Linear Regression R^2 score on entire dataset:\", linreg.score(X, y))"
      ]
    },
    {
      "cell_type": "markdown",
      "metadata": {
        "id": "gDon5se42A8e"
      },
      "source": [
        "### Ridge Regression\n",
        "Ridge regression is an extension of linear regression where the loss function is modified to\n",
        "minimize the complexity of the model measured as the sum squared value of the coefficient\n",
        "values (also called the L2-norm). You can construct a ridge regression model by using the Ridge\n",
        "class2."
      ]
    },
    {
      "cell_type": "code",
      "execution_count": 19,
      "metadata": {
        "id": "QG7xzOBF2A8e",
        "colab": {
          "base_uri": "https://localhost:8080/"
        },
        "outputId": "de0f33da-aa09-4900-aecd-0d485d836304"
      },
      "outputs": [
        {
          "output_type": "stream",
          "name": "stdout",
          "text": [
            "Ridge Regression R^2 score on entire dataset: 0.30325155816450067\n"
          ]
        }
      ],
      "source": [
        "from sklearn.linear_model import Ridge\n",
        "\n",
        "# Create and fit the Ridge Regression model\n",
        "ridge = Ridge()\n",
        "ridge.fit(X, y)\n",
        "\n",
        "# Print model R^2 score on the dataset\n",
        "print(\"Ridge Regression R^2 score on entire dataset:\", ridge.score(X, y))"
      ]
    },
    {
      "cell_type": "markdown",
      "metadata": {
        "id": "9imSITwR2A8f"
      },
      "source": [
        "# Nonlinear Machine Learning Algorithms\n",
        "This section provides examples of how to use three di\n",
        "\n",
        "\n",
        "erent nonlinear machine learning algorithms\n",
        "for regression in Python with scikit-learn.\n",
        "\n",
        "### K-Nearest Neighbors\n",
        "The k-Nearest Neighbors algorithm (or KNN) locates the k most similar instances in the\n",
        "training dataset for a new data instance. From the k neighbors, a mean or median output\n",
        "variable is taken as the prediction. Of note is the distance metric used (the metric argument).\n",
        "The Minkowski distance is used by default, which is a generalization of both the Euclidean\n",
        "distance (used when all inputs have the same scale) and Manhattan distance (for when the\n",
        "scales of the input variables di\n",
        "\n",
        "\n",
        "er). You can construct a KNN model for regression using the\n",
        "KNeighborsRegressor class5."
      ]
    },
    {
      "cell_type": "code",
      "execution_count": 20,
      "metadata": {
        "id": "DyZ6mDdc2A8f",
        "colab": {
          "base_uri": "https://localhost:8080/"
        },
        "outputId": "67b15ab6-fff0-4c55-f5fb-4dc40339eed6"
      },
      "outputs": [
        {
          "output_type": "stream",
          "name": "stdout",
          "text": [
            "KNN Regression R^2 score on entire dataset: 0.4103594029850747\n"
          ]
        }
      ],
      "source": [
        "from sklearn.neighbors import KNeighborsRegressor\n",
        "\n",
        "# Create and fit the K-Nearest Neighbors regressor\n",
        "knn_reg = KNeighborsRegressor()\n",
        "knn_reg.fit(X, y)\n",
        "\n",
        "# Print model R^2 score on the dataset\n",
        "print(\"KNN Regression R^2 score on entire dataset:\", knn_reg.score(X, y))"
      ]
    },
    {
      "cell_type": "markdown",
      "metadata": {
        "id": "zehSjTdo2A8g"
      },
      "source": [
        "# Compare Machine Learning Algorithms\n",
        "It is important to compare the performance of multiple di\n",
        "\n",
        "\n",
        "erent machine learning algorithms\n",
        "consistently. In this chapter you will discover how you can create a test harness to compare\n",
        "multiple different machine learning algorithms in Python with scikit-learn. You can use this\n",
        "test harness as a template on your own machine learning problems and add more and different\n",
        "algorithms to compare. After completing this lesson you will know:\n",
        "\n",
        "1. How to formulate an experiment to directly compare machine learning algorithms.\n",
        "2. A reusable template for evaluating the performance of multiple algorithms on one dataset.\n",
        "3. How to report and visualize the results when comparing algorithm performance.\n",
        "\n",
        "\n",
        "### Choose The Best Machine Learning Model\n",
        "When you work on a machine learning project, you often end up with multiple good models\n",
        "to choose from. Each model will have different performance characteristics. Using resampling\n",
        "methods like cross validation, you can get an estimate for how accurate each model may be on\n",
        "unseen data. You need to be able to use these estimates to choose one or two best models from\n",
        "the suite of models that you have created.\n",
        "When you have a new dataset, it is a good idea to visualize the data using different techniques\n",
        "in order to look at the data from di\n",
        "\n",
        "\n",
        "erent perspectives. The same idea applies to model selection.\n",
        "You should use a number of di\n",
        "\n",
        "\n",
        "erent ways of looking at the estimated accuracy of your machine\n",
        "learning algorithms in order to choose the one or two algorithm to finalize. A way to do this is\n",
        "to use visualization methods to show the average accuracy, variance and other properties of the\n",
        "distribution of model accuracies. In the next section you will discover exactly how you can do\n",
        "that in Python with scikit-learn.\n",
        "\n",
        "\n",
        "### Compare Machine Learning Algorithms Consistently\n",
        "The key to a fair comparison of machine learning algorithms is ensuring that each algorithm is\n",
        "evaluated in the same way on the same data. You can achieve this by forcing each algorithm to be evaluated on a consistent test harness. In the example below six different classiffication\n",
        "algorithms are compared on a single dataset:\n",
        "\n",
        "- Logistic Regression.\n",
        "- Linear Discriminant Analysis.\n",
        "- k-Nearest Neighbors.\n",
        "- Classiffication and Regression Trees.\n",
        "- Naive Bayes.\n",
        "- Support Vector Machines.\n",
        "\n",
        "The dataset is the Pima Indians onset of diabetes problem. The problem has two classes and\n",
        "eight numeric input variables of varying scales. The 10-fold cross validation procedure is used to\n",
        "evaluate each algorithm, importantly con\n",
        "\n",
        "\n",
        "gured with the same random seed to ensure that the\n",
        "same splits to the training data are performed and that each algorithm is evaluated in precisely\n",
        "the same way. Each algorithm is given a short name, useful for summarizing results afterward."
      ]
    },
    {
      "cell_type": "markdown",
      "metadata": {
        "id": "nVruQ8u32A8g"
      },
      "source": [
        "From these results, it would suggest that both logistic regression and linear discriminant analysis are perhaps worthy of further study on this problem."
      ]
    },
    {
      "cell_type": "markdown",
      "metadata": {
        "id": "fTKRalsE2A8g"
      },
      "source": [
        "# Chosen Model: Logistic Regression\n",
        "\n",
        "- `Problem Representation:` Logistic regression is used for binary classification problems, where the goal is to predict one of two possible outcomes (e.g., spam or not spam, pass or fail). The output of logistic regression is a probability value between 0 and 1.\n",
        "\n",
        "- `Linear Function:` In logistic regression, we first create a linear function by multiplying input features (x) with their corresponding weights (w) and adding a bias term (b). This is similar to linear regression but with a key difference in the next step.\n",
        "\n",
        ">> Mathematically: z = w1 * x1 + w2 * x2 + ... + wn * xn + b\n",
        "\n",
        "- `Sigmoid Function:` The linear function's output (z) is passed through the sigmoid function (also called the logistic function) to convert it into a probability value between 0 and 1. The sigmoid function has an S-shaped curve, which maps any real-valued number to a value between 0 and 1.\n",
        "\n",
        ">> Sigmoid function: p = 1 / (1 + e^(-z))\n",
        "\n",
        "- `Model Training:` To train the logistic regression model, we need to find the optimal weights (w) and bias (b) that minimize the error between predicted probabilities and the actual outcomes. This is done using a technique called gradient descent, which iteratively adjusts the weights and bias to minimize the cost function (e.g., cross-entropy loss).\n",
        "\n",
        "- `Prediction and Decision Boundary:` Once the model is trained, it can be used to predict the probability of a given input belonging to a particular class. A decision boundary is set (typically at 0.5), and if the probability is greater than this threshold, the input is classified as one class; otherwise, it is classified as the other class."
      ]
    },
    {
      "cell_type": "code",
      "source": [
        "from sklearn.linear_model import LogisticRegression\n",
        "from sklearn.model_selection import train_test_split\n",
        "from sklearn.metrics import classification_report\n",
        "import pandas as pd\n",
        "\n",
        "# Load data\n",
        "df = pd.read_csv(\"diabetes.csv\")\n",
        "X = df.drop('Outcome', axis=1)\n",
        "y = df['Outcome']\n",
        "\n",
        "# Train/test split\n",
        "X_train, X_test, y_train, y_test = train_test_split(X, y, test_size=0.2, random_state=42)\n",
        "\n",
        "# Train logistic regression\n",
        "model = LogisticRegression(max_iter=1000)\n",
        "model.fit(X_train, y_train)\n",
        "\n",
        "# Predict\n",
        "y_pred = model.predict(X_test)\n",
        "\n",
        "# Evaluate\n",
        "print(classification_report(y_test, y_pred))\n"
      ],
      "metadata": {
        "colab": {
          "base_uri": "https://localhost:8080/"
        },
        "id": "gaPND_Dbj-Jn",
        "outputId": "9822a83b-ed82-45ac-d233-d8c3fb9b830f"
      },
      "execution_count": 21,
      "outputs": [
        {
          "output_type": "stream",
          "name": "stdout",
          "text": [
            "              precision    recall  f1-score   support\n",
            "\n",
            "           0       0.81      0.79      0.80        99\n",
            "           1       0.64      0.67      0.65        55\n",
            "\n",
            "    accuracy                           0.75       154\n",
            "   macro avg       0.73      0.73      0.73       154\n",
            "weighted avg       0.75      0.75      0.75       154\n",
            "\n"
          ]
        }
      ]
    },
    {
      "cell_type": "markdown",
      "metadata": {
        "id": "A8RyA3lQ2A8j"
      },
      "source": [
        "## Cross Validation (Model Evaluation)\n",
        "\n",
        "Cross-validation is a widely used technique in machine learning to assess the performance of a model and its ability to generalize to unseen data. It is important because it helps to address the issue of `overfitting`, where a model learns the training data too well and performs `poorly on new, unseen data`.\n",
        "\n",
        ">> `Cross-validation provides a more accurate estimate of a model's performance on unseen data and reduces the risk of overfitting.`\n",
        "\n",
        "The key idea behind cross-validation is to divide the dataset into multiple smaller subsets, called folds, and train and evaluate the model multiple times. Each time, the model is trained on a different combination of folds and tested on the remaining fold. This process is repeated until every fold has been used for testing exactly once. The performance of the model is then averaged across all iterations to provide a more reliable estimate of its performance.\n",
        "\n",
        "Here are the main reasons why cross-validation is important in machine learning:\n",
        "\n",
        "`More accurate performance estimation:` By evaluating the model on different subsets of data, cross-validation provides a better estimate of the model's performance on unseen data compared to a single train-test split.\n",
        "\n",
        "`Reducing overfitting:` Overfitting occurs when a model learns the training data too well, including the noise, and fails to generalize to new data. Cross-validation can help detect overfitting by providing performance estimates on different data subsets, thus encouraging the selection of a model with better generalization ability.\n",
        "\n",
        "`Model selection and hyperparameter tuning:` Cross-validation can be used to compare the performance of different models or to fine-tune the hyperparameters of a single model. By comparing cross-validation scores, you can select the model or hyperparameter configuration that performs best on average across different data subsets.\n",
        "\n",
        "`Efficient use of data:` In situations where the available dataset is limited, cross-validation allows for more efficient use of the data by training and testing the model on different subsets, ensuring that the model's performance is assessed on the entire dataset.\n",
        "\n",
        "One popular form of cross-validation is `k-fold cross-validation`, where the dataset is divided into k equal-sized folds. The model is then trained and tested k times, each time using a different fold for testing and the remaining k-1 folds for training. Other variants of cross-validation include stratified k-fold, which preserves the class distribution in each fold, and leave-one-out cross-validation, where each sample is used as a test set exactly once."
      ]
    },
    {
      "cell_type": "code",
      "source": [
        "import pandas as pd\n",
        "from sklearn.linear_model import LogisticRegression\n",
        "from sklearn.model_selection import cross_val_score, StratifiedKFold\n",
        "from sklearn.preprocessing import StandardScaler\n",
        "\n",
        "# Load data\n",
        "df = pd.read_csv(\"diabetes.csv\")\n",
        "X = df.drop('Outcome', axis=1)\n",
        "y = df['Outcome']\n",
        "\n",
        "# Optional: Standardize features\n",
        "scaler = StandardScaler()\n",
        "X_scaled = scaler.fit_transform(X)\n",
        "\n",
        "# Create model\n",
        "model = LogisticRegression(max_iter=1000)\n",
        "\n",
        "# Define cross-validation strategy (e.g., 10-fold stratified CV)\n",
        "kfold = StratifiedKFold(n_splits=10, shuffle=True, random_state=42)\n",
        "\n",
        "# Perform cross-validation\n",
        "cv_results = cross_val_score(model, X_scaled, y, cv=kfold, scoring='accuracy')\n",
        "\n",
        "# Output performance\n",
        "print(f\"Cross-Validation Accuracy Scores: {cv_results}\")\n",
        "print(f\"Mean Accuracy: {cv_results.mean():.4f}\")\n",
        "print(f\"Standard Deviation: {cv_results.std():.4f}\")\n"
      ],
      "metadata": {
        "colab": {
          "base_uri": "https://localhost:8080/"
        },
        "id": "hScOBenLuKl-",
        "outputId": "0795c772-ef41-4189-d975-3a2470fee5e4"
      },
      "execution_count": 22,
      "outputs": [
        {
          "output_type": "stream",
          "name": "stdout",
          "text": [
            "Cross-Validation Accuracy Scores: [0.77922078 0.76623377 0.75324675 0.83116883 0.79220779 0.80519481\n",
            " 0.79220779 0.74025974 0.76315789 0.73684211]\n",
            "Mean Accuracy: 0.7760\n",
            "Standard Deviation: 0.0283\n"
          ]
        }
      ]
    },
    {
      "cell_type": "markdown",
      "metadata": {
        "id": "SosgKad22A8k"
      },
      "source": [
        "## Model Evaluation (Cross Validation)\n",
        "\n",
        "Evaluating if a model is `overfitting` based on `cross-validation (CV)` scores and training scores involves comparing the model's performance on the training set and the cross-validation set. Here's a simple guideline to interpret these scores:\n",
        "\n",
        "- If the training score is high and the CV score is also high, the model is likely performing well and generalizing effectively to unseen data. This indicates a good balance between bias and variance.\n",
        "\n",
        "- If the training score is high, but the CV score is significantly lower, the model is likely overfitting. Overfitting occurs when the model captures the noise in the training data and is unable to generalize well to new, unseen data. In this case, you should consider simplifying the model (e.g., using regularization, reducing the number of features, or using a less complex model) or increasing the size of the training set.\n",
        "\n",
        "- If both the training score and CV score are low, the model is likely underfitting. This occurs when the model is too simple to capture the underlying patterns in the data. To address underfitting, you can try using a more complex model, adding more features, or fine-tuning the model's hyperparameters.\n",
        "\n",
        "`It's important to note that comparing the absolute values of the scores may not always be informative.`\n",
        " Instead, look at the `relative difference between the training and CV scores to assess if the model is overfitting.` A large gap between the two scores is indicative of overfitting, while a smaller gap suggests a better balance between bias and variance.\n",
        "\n",
        ">> Keep in mind that cross-validation provides a more robust evaluation of model performance than a single train-test split. By training and evaluating the model on different subsets of the data, cross-validation helps to reduce the risk of overfitting and provides a better estimate of the model's generalization ability."
      ]
    },
    {
      "cell_type": "code",
      "source": [
        "import pandas as pd\n",
        "from sklearn.linear_model import LogisticRegression\n",
        "from sklearn.model_selection import StratifiedKFold, cross_val_score\n",
        "from sklearn.preprocessing import StandardScaler\n",
        "\n",
        "# Load dataset\n",
        "df = pd.read_csv(\"diabetes.csv\")\n",
        "X = df.drop('Outcome', axis=1)\n",
        "y = df['Outcome']\n",
        "\n",
        "# Standardize features\n",
        "scaler = StandardScaler()\n",
        "X_scaled = scaler.fit_transform(X)\n",
        "\n",
        "# Create model\n",
        "model = LogisticRegression(max_iter=1000)\n",
        "\n",
        "# Cross-validation strategy\n",
        "kfold = StratifiedKFold(n_splits=10, shuffle=True, random_state=42)\n",
        "\n",
        "# Cross-validation score\n",
        "cv_scores = cross_val_score(model, X_scaled, y, cv=kfold, scoring='accuracy')\n",
        "cv_mean = cv_scores.mean()\n",
        "\n",
        "# Training score\n",
        "model.fit(X_scaled, y)\n",
        "train_score = model.score(X_scaled, y)\n",
        "\n",
        "# Report\n",
        "print(f\"Training Accuracy: {train_score:.4f}\")\n",
        "print(f\"Cross-Validation Accuracy (mean): {cv_mean:.4f}\")\n",
        "print(f\"Score Gap (Train - CV): {train_score - cv_mean:.4f}\")\n",
        "\n",
        "# Interpretation\n",
        "if train_score - cv_mean > 0.1:\n",
        "    print(\" Warning: Model is likely overfitting.\")\n",
        "elif train_score < 0.75 and cv_mean < 0.75:\n",
        "    print(\"Model might be underfitting.\")\n",
        "else:\n",
        "    print(\"Model is performing well.\")\n"
      ],
      "metadata": {
        "colab": {
          "base_uri": "https://localhost:8080/"
        },
        "id": "S5ARE0QjyHEW",
        "outputId": "049762c2-e62f-4e37-eb7e-476c4c096c0c"
      },
      "execution_count": 23,
      "outputs": [
        {
          "output_type": "stream",
          "name": "stdout",
          "text": [
            "Training Accuracy: 0.7839\n",
            "Cross-Validation Accuracy (mean): 0.7760\n",
            "Score Gap (Train - CV): 0.0079\n",
            "Model is performing well.\n"
          ]
        }
      ]
    },
    {
      "cell_type": "markdown",
      "metadata": {
        "id": "7FNrQjnQ2A8k"
      },
      "source": [
        "# First Individual Project Assignment:-\n",
        "\n",
        "You are a lead data scientist on a project regarding maternal health, you are provided with a dataset regarding featal health. (Please find the dataset in the data folder given). These are your instructions\n",
        "1 - Use that dataset to do: EDA, Clean the data\n",
        "2 - Use mandas Profiling to export a pdf report of your data (explain how the report informs your future decisions)\n",
        "3 - Apply any needed transformations if possible.\n",
        "4 - Choose a proper evaluation metric for your project.\n",
        "5 - Do model spot checking to find the best model for your use.\n",
        "6 - Build the chosen model\n",
        "7 - Evaluate bias vs variance on your model and present your results.\n",
        "\n",
        "Note:\n",
        "- Please follow instructions!\n",
        "- You have to explain in detail every step you are executing in your own words, your result will be based on how well you explain what steps you are executing.\n",
        "- Students are allowed to use public resources off the internet for their research, however students are not allowed to copy and paste code for this assignment (If you are caught, you will fail this assignment, you have been warned: especially chatGpt.)\n",
        "- This is a graded individual assignment any malpractice will lead to losing of points, this assignment contributes a great percentage to your final grade.\n",
        "- All assignments must be handed in by Close of Business next Wednesday by 6:00PM Date: 3rd - May - 2023\n",
        "- All your assignments will be handed in by means of a pull request to my original repository.\n",
        "- Please name your pull requests as per previously instructed, you will not get warnings for failing to do this.\n",
        "- Your work should be saved in the Project Folder (Create your own folder and give the folder your name.)\n"
      ]
    },
    {
      "cell_type": "markdown",
      "metadata": {
        "id": "OtMRUDsI2A8l"
      },
      "source": [
        "# Automate Machine Learning Workflows with Pipelines\n",
        "---\n",
        "\n",
        "<img src=\"https://www.wordstream.com/wp-content/uploads/2021/07/machine-learning.png\">\n",
        "\n",
        "---\n",
        "\n",
        "There are standard workflows in a machine learning project that can be automated. In Python\n",
        "scikit-learn, Pipelines help to clearly define and automate these work\n",
        "ows. In this chapter you will discover Pipelines in scikit-learn and how you can automate common machine learning\n",
        "work\n",
        "ows. After completing this lesson you will know:\n",
        "\n",
        "1. How to use pipelines to minimize data leakage.\n",
        "2. How to construct a data preparation and modeling pipeline.\n",
        "3. How to construct a feature extraction and modeling pipeline.\n",
        "\n",
        "### Automating Machine Learning Workflows\n",
        "There are standard work\n",
        "ows in applied machine learning. Standard because they overcome\n",
        "common problems like data leakage in your test harness. Python scikit-learn provides a Pipeline\n",
        "utility to help automate machine learning work\n",
        "ows. Pipelines work by allowing for a linear\n",
        "sequence of data transforms to be chained together culminating in a modeling process that can\n",
        "be evaluated.\n",
        "\n",
        "The goal is to ensure that all of the steps in the pipeline are constrained to the data available\n",
        "for the evaluation, such as the training dataset or each fold of the cross validation procedure.\n",
        "\n",
        "### Data Preparation and Modeling Pipeline\n",
        "An easy trap to fall into in applied machine learning is leaking data from your training dataset\n",
        "to your test dataset. To avoid this trap you need a robust test harness with strong separation of training and testing. This includes data preparation. Data preparation is one easy way to leak\n",
        "knowledge of the whole training dataset to the algorithm. For example, preparing your data\n",
        "using normalization or standardization on the entire training dataset before learning would not\n",
        "be a valid test because the training dataset would have been in\n",
        "uenced by the scale of the data\n",
        "in the test set.\n",
        "\n",
        "\n",
        "Pipelines help you prevent data leakage in your test harness by ensuring that data preparation\n",
        "like standardization is constrained to each fold of your cross validation procedure. The example\n",
        "below demonstrates this important data preparation and model evaluation work\n",
        "ow on the Pima Indians onset of diabetes dataset. The pipeline is defined with two steps:\n",
        "\n",
        "1. Standardize the data.\n",
        "2. Learn a Linear Discriminant Analysis model.\n",
        "\n",
        "The pipeline is then evaluated using 10-fold cross validation."
      ]
    },
    {
      "cell_type": "markdown",
      "metadata": {
        "id": "BJXCgv3z2A8l"
      },
      "source": [
        "Notice how we create a Python list of steps that are provided to the Pipeline for process\n",
        "the data. Also notice how the Pipeline itself is treated like an estimator and is evaluated in its\n",
        "entirety by the k-fold cross validation procedure. Running the example provides a summary of\n",
        "accuracy of the setup on the dataset.\n",
        "\n",
        "\n",
        "## Feature Extraction and Modeling Pipeline\n",
        "Feature extraction is another procedure that is susceptible to data leakage. Like data preparation,\n",
        "feature extraction procedures must be restricted to the data in your training dataset. The\n",
        "pipeline provides a handy tool called the FeatureUnion which allows the results of multiple\n",
        "feature selection and extraction procedures to be combined into a larger dataset on which a\n",
        "model can be trained. Importantly, all the feature extraction and the feature union occurs\n",
        "within each fold of the cross validation procedure. The example below demonstrates the pipeline\n",
        "defined with four steps:\n",
        "\n",
        "1. Feature Extraction with Principal Component Analysis (3 features).\n",
        "2. Feature Extraction with Statistical Selection (6 features).\n",
        "3. Feature Union.\n",
        "4. Learn a Logistic Regression Model.\n",
        "\n",
        "The pipeline is then evaluated using 10-fold cross validation."
      ]
    },
    {
      "cell_type": "code",
      "execution_count": 24,
      "metadata": {
        "id": "QhlJgDb92A8l",
        "colab": {
          "base_uri": "https://localhost:8080/"
        },
        "outputId": "6fa650c6-7f21-42f5-a1fb-bd84dcac381b"
      },
      "outputs": [
        {
          "output_type": "stream",
          "name": "stdout",
          "text": [
            "Pipeline (StandardScaler + LDA) mean accuracy (10-fold CV): 0.7734962406015038\n"
          ]
        }
      ],
      "source": [
        "from sklearn.pipeline import Pipeline\n",
        "from sklearn.preprocessing import StandardScaler\n",
        "from sklearn.model_selection import cross_val_score\n",
        "\n",
        "# Create a pipeline with standardization and LDA\n",
        "pipeline = Pipeline([\n",
        "    ('scaler', StandardScaler()),\n",
        "    ('lda', LinearDiscriminantAnalysis())\n",
        "])\n",
        "\n",
        "# Evaluate the pipeline using 10-fold cross-validation\n",
        "scores = cross_val_score(pipeline, X, y, cv=10)\n",
        "print(\"Pipeline (StandardScaler + LDA) mean accuracy (10-fold CV):\", scores.mean())"
      ]
    },
    {
      "cell_type": "markdown",
      "metadata": {
        "id": "vvBpc2Iu2A89"
      },
      "source": [
        "# Improve Performance with Ensembles\n",
        "\n",
        "Ensembles can give you a boost in accuracy on your dataset. In this chapter you will discover\n",
        "how you can create some of the most powerful types of ensembles in Python using scikit-learn.\n",
        "This lesson will step you through Boosting, Bagging and Majority Voting and show you how you\n",
        "can continue to ratchet up the accuracy of the models on your own datasets. After completing\n",
        "this lesson you will know:\n",
        "\n",
        "1. How to use bagging ensemble methods such as bagged decision trees, random forest and extra trees.\n",
        "2. How to use boosting ensemble methods such as AdaBoost and stochastic gradient boosting.\n",
        "3. How to use voting ensemble methods to combine the predictions from multiple algorithms.\n",
        "\n",
        "### Combine Models Into Ensemble Predictions\n",
        "The three most popular methods for combining the predictions from different models are:\n",
        "\n",
        "- Bagging. Building multiple models (typically of the same type) from different subsamples of the training dataset.\n",
        "- Boosting. Building multiple models (typically of the same type) each of which learns to fix the prediction errors of a prior model in the sequence of models.\n",
        "- Voting. Building multiple models (typically of di\n",
        "\n",
        "\n",
        "ering types) and simple statistics (like calculating the mean) are used to combine predictions.\n",
        "\n",
        "This assumes you are generally familiar with machine learning algorithms and ensemble\n",
        "methods and will not go into the details of how the algorithms work or their parameters.\n",
        "The Pima Indians onset of Diabetes dataset is used to demonstrate each algorithm. Each\n",
        "ensemble algorithm is demonstrated using 10-fold cross validation and the classiffication accuracy\n",
        "performance metric.\n",
        "\n",
        "\n",
        "### Bagging Algorithms\n",
        "Bootstrap Aggregation (or Bagging) involves taking multiple samples from your training dataset\n",
        "(with replacement) and training a model for each sample. The\n",
        "\n",
        "\n",
        "nal output prediction is averaged\n",
        "across the predictions of all of the sub-models. The three bagging models covered in this section\n",
        "are as follows:\n",
        "\n",
        "- Bagged Decision Trees.\n",
        "- Random Forest.\n",
        "- Extra Trees.\n",
        "\n",
        "### Bagged Decision Trees\n",
        "Bagging performs best with algorithms that have high variance. A popular example are\n",
        "decision trees, often constructed without pruning. In the example below is an example\n",
        "of using the BaggingClassifier with the Classi\n",
        "\n",
        "\n",
        "cation and Regression Trees algorithm\n",
        "(DecisionTreeClassifier1). A total of 100 trees are created."
      ]
    },
    {
      "cell_type": "code",
      "execution_count": 25,
      "metadata": {
        "id": "GjQ_oO7A2A89",
        "colab": {
          "base_uri": "https://localhost:8080/"
        },
        "outputId": "1168c3ea-1ac2-440d-e78f-56dab947c403"
      },
      "outputs": [
        {
          "output_type": "stream",
          "name": "stdout",
          "text": [
            "Random Forest Accuracy on entire dataset: 1.0\n"
          ]
        }
      ],
      "source": [
        "from sklearn.ensemble import RandomForestClassifier\n",
        "\n",
        "# Create and fit the Random Forest model\n",
        "rf = RandomForestClassifier(n_estimators=100, max_features=3, random_state=42)\n",
        "rf.fit(X, y)\n",
        "\n",
        "# Print model accuracy on the dataset\n",
        "print(\"Random Forest Accuracy on entire dataset:\", rf.score(X, y))"
      ]
    },
    {
      "cell_type": "markdown",
      "metadata": {
        "id": "E9PsjurQ2A89"
      },
      "source": [
        "### Random Forest\n",
        "Random Forests is an extension of bagged decision trees. Samples of the training dataset are\n",
        "taken with replacement, but the trees are constructed in a way that reduces the correlation\n",
        "between individual classiffiers. Specifically, rather than greedily choosing the best split point in\n",
        "the construction of each tree, only a random subset of features are considered for each split. You\n",
        "can construct a Random Forest model for classiffication using the RandomForestClassifier\n",
        "class2. The example below demonstrates using Random Forest for classiffication with 100 trees\n",
        "and split points chosen from a random selection of 3 features."
      ]
    },
    {
      "cell_type": "code",
      "execution_count": 26,
      "metadata": {
        "id": "OGJsq26r2A8-",
        "colab": {
          "base_uri": "https://localhost:8080/"
        },
        "outputId": "aae112d3-8a6e-407c-ebb9-a4560018f9af"
      },
      "outputs": [
        {
          "output_type": "stream",
          "name": "stdout",
          "text": [
            "Accuracy: 0.7597\n",
            "\n",
            "Classification Report:\n",
            "              precision    recall  f1-score   support\n",
            "\n",
            "           0       0.83      0.79      0.81        99\n",
            "           1       0.65      0.71      0.68        55\n",
            "\n",
            "    accuracy                           0.76       154\n",
            "   macro avg       0.74      0.75      0.74       154\n",
            "weighted avg       0.77      0.76      0.76       154\n",
            "\n",
            "\n",
            "Feature Importances:\n",
            "Glucose                     0.274756\n",
            "BMI                         0.177538\n",
            "Age                         0.142747\n",
            "DiabetesPedigreeFunction    0.120301\n",
            "BloodPressure               0.083171\n",
            "Insulin                     0.069396\n",
            "Pregnancies                 0.066572\n",
            "SkinThickness               0.065520\n",
            "dtype: float64\n"
          ]
        }
      ],
      "source": [
        "import pandas as pd\n",
        "from sklearn.ensemble import RandomForestClassifier\n",
        "from sklearn.model_selection import train_test_split\n",
        "from sklearn.metrics import accuracy_score, classification_report\n",
        "\n",
        "# Load dataset\n",
        "df = pd.read_csv(\"diabetes.csv\")\n",
        "\n",
        "# Split features and target\n",
        "X = df.drop('Outcome', axis=1)  # Replace 'Outcome' with your target column name\n",
        "y = df['Outcome']\n",
        "\n",
        "# Train/test split\n",
        "X_train, X_test, y_train, y_test = train_test_split(X, y, test_size=0.2, random_state=42)\n",
        "\n",
        "# Initialize Random Forest with 100 trees, max 3 features considered at each split\n",
        "rf = RandomForestClassifier(n_estimators=100, max_features=3, random_state=42)\n",
        "\n",
        "# Train the model\n",
        "rf.fit(X_train, y_train)\n",
        "\n",
        "# Predict on test data\n",
        "y_pred = rf.predict(X_test)\n",
        "\n",
        "# Evaluate accuracy\n",
        "print(f\"Accuracy: {accuracy_score(y_test, y_pred):.4f}\")\n",
        "\n",
        "# Detailed classification report\n",
        "print(\"\\nClassification Report:\")\n",
        "print(classification_report(y_test, y_pred))\n",
        "\n",
        "# Optional: Display feature importances\n",
        "importances = rf.feature_importances_\n",
        "feature_names = X.columns\n",
        "feat_imp = pd.Series(importances, index=feature_names).sort_values(ascending=False)\n",
        "\n",
        "print(\"\\nFeature Importances:\")\n",
        "print(feat_imp)\n"
      ]
    },
    {
      "cell_type": "markdown",
      "metadata": {
        "id": "OKPPLT4t2A8-"
      },
      "source": [
        "### Extra Trees\n",
        "Extra Trees are another modi\n",
        "\n",
        "\n",
        "cation of bagging where random trees are constructed from\n",
        "samples of the training dataset. You can construct an Extra Trees model for classiffication using\n",
        "the ExtraTreesClassifier class3. The example below provides a demonstration of extra trees\n",
        "with the number of trees set to 100 and splits chosen from 7 random features."
      ]
    },
    {
      "cell_type": "code",
      "execution_count": 27,
      "metadata": {
        "id": "MYMoPyO92A8-",
        "colab": {
          "base_uri": "https://localhost:8080/"
        },
        "outputId": "8b10455c-1106-4b30-c188-9499bc7fabb9"
      },
      "outputs": [
        {
          "output_type": "stream",
          "name": "stdout",
          "text": [
            "Accuracy: 0.7597\n",
            "\n",
            "Classification Report:\n",
            "              precision    recall  f1-score   support\n",
            "\n",
            "           0       0.82      0.81      0.81        99\n",
            "           1       0.66      0.67      0.67        55\n",
            "\n",
            "    accuracy                           0.76       154\n",
            "   macro avg       0.74      0.74      0.74       154\n",
            "weighted avg       0.76      0.76      0.76       154\n",
            "\n",
            "\n",
            "Feature Importances:\n",
            "Glucose                     0.282450\n",
            "Age                         0.153456\n",
            "BMI                         0.138781\n",
            "DiabetesPedigreeFunction    0.099785\n",
            "Pregnancies                 0.093206\n",
            "BloodPressure               0.091612\n",
            "Insulin                     0.071370\n",
            "SkinThickness               0.069340\n",
            "dtype: float64\n"
          ]
        }
      ],
      "source": [
        "import pandas as pd\n",
        "from sklearn.ensemble import ExtraTreesClassifier\n",
        "from sklearn.model_selection import train_test_split\n",
        "from sklearn.metrics import accuracy_score, classification_report\n",
        "\n",
        "# Load dataset\n",
        "df = pd.read_csv(\"diabetes.csv\")\n",
        "\n",
        "# Split features and target label\n",
        "X = df.drop('Outcome', axis=1)  # Replace 'Outcome' with your target column\n",
        "y = df['Outcome']\n",
        "\n",
        "# Split dataset into training and test sets\n",
        "X_train, X_test, y_train, y_test = train_test_split(X, y, test_size=0.2, random_state=42)\n",
        "\n",
        "# Initialize Extra Trees with 100 trees, max 7 features considered for each split\n",
        "etc = ExtraTreesClassifier(n_estimators=100, max_features=7, random_state=42)\n",
        "\n",
        "# Train the model\n",
        "etc.fit(X_train, y_train)\n",
        "\n",
        "# Predict on test data\n",
        "y_pred = etc.predict(X_test)\n",
        "\n",
        "# Evaluate accuracy\n",
        "print(f\"Accuracy: {accuracy_score(y_test, y_pred):.4f}\")\n",
        "\n",
        "# Detailed classification report\n",
        "print(\"\\nClassification Report:\")\n",
        "print(classification_report(y_test, y_pred))\n",
        "\n",
        "# Optional: Feature importances\n",
        "importances = etc.feature_importances_\n",
        "feature_names = X.columns\n",
        "feat_imp = pd.Series(importances, index=feature_names).sort_values(ascending=False)\n",
        "\n",
        "print(\"\\nFeature Importances:\")\n",
        "print(feat_imp)\n"
      ]
    },
    {
      "cell_type": "markdown",
      "metadata": {
        "id": "PRrXia6K2A8_"
      },
      "source": [
        "# Boosting Algorithms\n",
        "Boosting ensemble algorithms creates a sequence of models that attempt to correct the mistakes\n",
        "of the models before them in the sequence. Once created, the models make predictions which\n",
        "may be weighted by their demonstrated accuracy and the results are combined to create a\n",
        "\n",
        "\n",
        "nal\n",
        "output prediction. The two most common boosting ensemble machine learning algorithms are:\n",
        "\n",
        "- AdaBoost.\n",
        "- Stochastic Gradient Boosting.\n",
        "\n",
        "\n",
        "### AdaBoost\n",
        "AdaBoost was perhaps the\n",
        "\n",
        "\n",
        "rst successful boosting ensemble algorithm. It generally works\n",
        "by weighting instances in the dataset by how easy or di\u000ecult they are to classify, allowing\n",
        "the algorithm to pay or less attention to them in the construction of subsequent models. You\n",
        "can construct an AdaBoost model for classi\n",
        "\n",
        "\n",
        "cation using the AdaBoostClassifier class4. The\n",
        "example below demonstrates the construction of 30 decision trees in sequence using the AdaBoost\n",
        "algorithm."
      ]
    },
    {
      "cell_type": "code",
      "execution_count": 28,
      "metadata": {
        "id": "rb0wqEal2A8_",
        "colab": {
          "base_uri": "https://localhost:8080/"
        },
        "outputId": "5d9d71e1-11a8-4db6-f3c2-7848cfc0a615"
      },
      "outputs": [
        {
          "output_type": "stream",
          "name": "stdout",
          "text": [
            "Accuracy: 0.7597\n",
            "\n",
            "Classification Report:\n",
            "              precision    recall  f1-score   support\n",
            "\n",
            "           0       0.82      0.81      0.81        99\n",
            "           1       0.66      0.67      0.67        55\n",
            "\n",
            "    accuracy                           0.76       154\n",
            "   macro avg       0.74      0.74      0.74       154\n",
            "weighted avg       0.76      0.76      0.76       154\n",
            "\n"
          ]
        }
      ],
      "source": [
        "import pandas as pd\n",
        "from sklearn.ensemble import AdaBoostClassifier\n",
        "from sklearn.tree import DecisionTreeClassifier\n",
        "from sklearn.model_selection import train_test_split\n",
        "from sklearn.metrics import accuracy_score, classification_report\n",
        "\n",
        "# Load dataset\n",
        "df = pd.read_csv(\"diabetes.csv\")\n",
        "\n",
        "# Features and target\n",
        "X = df.drop('Outcome', axis=1)\n",
        "y = df['Outcome']\n",
        "\n",
        "# Split data\n",
        "X_train, X_test, y_train, y_test = train_test_split(X, y, test_size=0.2, random_state=42)\n",
        "\n",
        "# Base estimator\n",
        "base_estimator = DecisionTreeClassifier(max_depth=1)\n",
        "\n",
        "# AdaBoost with updated argument name\n",
        "ada = AdaBoostClassifier(estimator=base_estimator, n_estimators=30, random_state=42)\n",
        "\n",
        "# Train model\n",
        "ada.fit(X_train, y_train)\n",
        "\n",
        "# Predict\n",
        "y_pred = ada.predict(X_test)\n",
        "\n",
        "# Evaluate\n",
        "print(f\"Accuracy: {accuracy_score(y_test, y_pred):.4f}\")\n",
        "print(\"\\nClassification Report:\")\n",
        "print(classification_report(y_test, y_pred))\n"
      ]
    },
    {
      "cell_type": "markdown",
      "metadata": {
        "id": "Ii40DJiZ2A8_"
      },
      "source": [
        "## Stochastic Gradient Boosting\n",
        "Stochastic Gradient Boosting (also called Gradient Boosting Machines) are one of the most\n",
        "sophisticated ensemble techniques. It is also a technique that is proving to be perhaps one of\n",
        "the best techniques available for improving performance via ensembles. You can construct a\n",
        "Gradient Boosting model for classiffication using the GradientBoostingClassifier class5. The\n",
        "example below demonstrates Stochastic Gradient Boosting for classi\n",
        "\n",
        "\n",
        "cation with 100 trees."
      ]
    },
    {
      "cell_type": "markdown",
      "metadata": {
        "id": "bpgejRUb2A9A"
      },
      "source": [
        "## XGB"
      ]
    },
    {
      "cell_type": "code",
      "execution_count": 29,
      "metadata": {
        "id": "MU9l88Jo2A9A",
        "colab": {
          "base_uri": "https://localhost:8080/"
        },
        "outputId": "c080543d-91c3-4c23-babd-f6980aad798d"
      },
      "outputs": [
        {
          "output_type": "stream",
          "name": "stdout",
          "text": [
            "Accuracy: 0.7403\n",
            "\n",
            "Classification Report:\n",
            "              precision    recall  f1-score   support\n",
            "\n",
            "           0       0.81      0.78      0.79        99\n",
            "           1       0.63      0.67      0.65        55\n",
            "\n",
            "    accuracy                           0.74       154\n",
            "   macro avg       0.72      0.73      0.72       154\n",
            "weighted avg       0.75      0.74      0.74       154\n",
            "\n"
          ]
        }
      ],
      "source": [
        "import pandas as pd\n",
        "from sklearn.ensemble import GradientBoostingClassifier\n",
        "from sklearn.model_selection import train_test_split\n",
        "from sklearn.metrics import accuracy_score, classification_report\n",
        "\n",
        "# Load dataset\n",
        "df = pd.read_csv(\"diabetes.csv\")\n",
        "\n",
        "# Features and target\n",
        "X = df.drop('Outcome', axis=1)  # Replace 'Outcome' with your label column\n",
        "y = df['Outcome']\n",
        "\n",
        "# Split data into training and testing sets\n",
        "X_train, X_test, y_train, y_test = train_test_split(X, y, test_size=0.2, random_state=42)\n",
        "\n",
        "# Initialize Gradient Boosting classifier with 100 trees\n",
        "gbc = GradientBoostingClassifier(n_estimators=100, random_state=42)\n",
        "\n",
        "# Train the model\n",
        "gbc.fit(X_train, y_train)\n",
        "\n",
        "# Predict on test set\n",
        "y_pred = gbc.predict(X_test)\n",
        "\n",
        "# Evaluate accuracy\n",
        "print(f\"Accuracy: {accuracy_score(y_test, y_pred):.4f}\")\n",
        "\n",
        "# Detailed classification report\n",
        "print(\"\\nClassification Report:\")\n",
        "print(classification_report(y_test, y_pred))\n"
      ]
    },
    {
      "cell_type": "markdown",
      "metadata": {
        "id": "mu9qhCpW2A9A"
      },
      "source": [
        "### Voting Ensemble\n",
        "Voting is one of the simplest ways of combining the predictions from multiple machine learning\n",
        "algorithms. It works by first creating two or more standalone models from your training dataset.\n",
        "A Voting Classiffier can then be used to wrap your models and average the predictions of the\n",
        "sub-models when asked to make predictions for new data. The predictions of the sub-models can\n",
        "be weighted, but specifying the weights for classiffiers manually or even heuristically is difficult.\n",
        "More advanced methods can learn how to best weight the predictions from sub-models, but this\n",
        "is called stacking (stacked aggregation) and is currently not provided in scikit-learn.\n",
        "You can create a voting ensemble model for classiffication using the VotingClassifier\n",
        "class6. The code below provides an example of combining the predictions of logistic regression,\n",
        "classiffication and regression trees and support vector machines together for a classiffication\n",
        "problem."
      ]
    },
    {
      "cell_type": "code",
      "execution_count": 30,
      "metadata": {
        "id": "XyNRUnzX2A9A",
        "colab": {
          "base_uri": "https://localhost:8080/"
        },
        "outputId": "e8f0a82c-6e90-414a-8bf4-d422cf6cbf56"
      },
      "outputs": [
        {
          "output_type": "stream",
          "name": "stdout",
          "text": [
            "Accuracy: 0.7792\n",
            "\n",
            "Classification Report:\n",
            "              precision    recall  f1-score   support\n",
            "\n",
            "           0       0.84      0.82      0.83        99\n",
            "           1       0.68      0.71      0.70        55\n",
            "\n",
            "    accuracy                           0.78       154\n",
            "   macro avg       0.76      0.76      0.76       154\n",
            "weighted avg       0.78      0.78      0.78       154\n",
            "\n"
          ]
        }
      ],
      "source": [
        "import pandas as pd\n",
        "from sklearn.linear_model import LogisticRegression\n",
        "from sklearn.tree import DecisionTreeClassifier\n",
        "from sklearn.svm import SVC\n",
        "from sklearn.ensemble import VotingClassifier\n",
        "from sklearn.model_selection import train_test_split\n",
        "from sklearn.metrics import accuracy_score, classification_report\n",
        "\n",
        "# Load dataset\n",
        "df = pd.read_csv(\"diabetes.csv\")\n",
        "\n",
        "# Features and target\n",
        "X = df.drop('Outcome', axis=1)\n",
        "y = df['Outcome']\n",
        "\n",
        "# Split data\n",
        "X_train, X_test, y_train, y_test = train_test_split(X, y, test_size=0.2, random_state=42)\n",
        "\n",
        "# Define individual models\n",
        "model1 = LogisticRegression(max_iter=1000, random_state=42)\n",
        "model2 = DecisionTreeClassifier(random_state=42)\n",
        "model3 = SVC(probability=True, random_state=42)  # probability=True needed for soft voting\n",
        "\n",
        "# Create Voting Classifier (soft voting averages predicted probabilities)\n",
        "voting_clf = VotingClassifier(\n",
        "    estimators=[('lr', model1), ('dt', model2), ('svc', model3)],\n",
        "    voting='soft'  # 'hard' for majority vote, 'soft' for weighted probabilities\n",
        ")\n",
        "\n",
        "# Train ensemble model\n",
        "voting_clf.fit(X_train, y_train)\n",
        "\n",
        "# Make predictions\n",
        "y_pred = voting_clf.predict(X_test)\n",
        "\n",
        "# Evaluate\n",
        "print(f\"Accuracy: {accuracy_score(y_test, y_pred):.4f}\")\n",
        "print(\"\\nClassification Report:\")\n",
        "print(classification_report(y_test, y_pred))\n"
      ]
    },
    {
      "cell_type": "markdown",
      "metadata": {
        "id": "74sEApj32A9B"
      },
      "source": [
        "## Finalize Your Model with pickle\n",
        "Pickle is the standard way of serializing objects in Python. You can use the pickle1 operation\n",
        "to serialize your machine learning algorithms and save the serialized format to a file. Later you\n",
        "can load this file to deserialize your model and use it to make new predictions. The example\n",
        "below demonstrates how you can train a logistic regression model on the Pima Indians onset of\n",
        "diabetes dataset, save the model to file and load it to make predictions on the unseen test set."
      ]
    },
    {
      "cell_type": "code",
      "execution_count": 31,
      "metadata": {
        "id": "u-caPuR52A9B",
        "colab": {
          "base_uri": "https://localhost:8080/"
        },
        "outputId": "9c230534-3749-46c1-9d19-aa64d2ef2b59"
      },
      "outputs": [
        {
          "output_type": "stream",
          "name": "stdout",
          "text": [
            "Predictions with loaded model: [0 0 0 0 0 0 0 1 1 1 0 1 0 0 0 0 0 0 1 1 0 0 1 0 1 1 0 0 0 0 1 1 1 1 1 1 1\n",
            " 0 1 1 0 1 1 0 0 1 1 0 0 1 0 1 1 0 0 0 1 0 0 1 1 0 0 0 0 1 0 1 0 1 1 0 0 0\n",
            " 0 1 0 0 0 0 1 0 0 0 0 1 1 0 0 0 0 0 0 1 1 1 0 0 1 0 1 0 1 1 1 0 0 1 0 1 0\n",
            " 0 0 1 0 0 1 0 0 1 0 0 0 0 0 0 0 1 1 1 1 1 0 0 1 0 0 1 1 0 0 0 0 0 0 0 0 0\n",
            " 0 1 0 0 0 0]\n"
          ]
        }
      ],
      "source": [
        "import pickle\n",
        "from sklearn.linear_model import LogisticRegression\n",
        "from sklearn.model_selection import train_test_split\n",
        "import pandas as pd\n",
        "\n",
        "# Load data\n",
        "df = pd.read_csv(\"diabetes.csv\")\n",
        "X = df.drop('Outcome', axis=1)\n",
        "y = df['Outcome']\n",
        "X_train, X_test, y_train, y_test = train_test_split(X, y, test_size=0.2, random_state=42)\n",
        "\n",
        "# Train logistic regression\n",
        "model = LogisticRegression(max_iter=1000, random_state=42)\n",
        "model.fit(X_train, y_train)\n",
        "\n",
        "# Save the model to disk\n",
        "with open('logistic_model.pkl', 'wb') as f:\n",
        "    pickle.dump(model, f)\n",
        "\n",
        "# Load the model from disk\n",
        "with open('logistic_model.pkl', 'rb') as f:\n",
        "    loaded_model = pickle.load(f)\n",
        "\n",
        "# Make predictions with loaded model\n",
        "y_pred = loaded_model.predict(X_test)\n",
        "print(\"Predictions with loaded model:\", y_pred)\n"
      ]
    },
    {
      "cell_type": "markdown",
      "metadata": {
        "id": "p76funiy2A9B"
      },
      "source": [
        "## Finalize Your Model with Joblib\n",
        "The Joblib2 library is part of the SciPy ecosystem and provides utilities for pipelining Python\n",
        "jobs. It provides utilities for saving and loading Python objects that make use of NumPy data\n",
        "structures, efficiently3. This can be useful for some machine learning algorithms that require a\n",
        "lot of parameters or store the entire dataset (e.g. k-Nearest Neighbors). The example below\n",
        "demonstrates how you can train a logistic regression model on the Pima Indians onset of diabetes\n",
        "dataset, save the model to file using Joblib and load it to make predictions on the unseen test\n",
        "set."
      ]
    },
    {
      "cell_type": "code",
      "execution_count": 32,
      "metadata": {
        "id": "CPpEwam-2A9C",
        "colab": {
          "base_uri": "https://localhost:8080/"
        },
        "outputId": "36218047-041d-4ecd-853e-dce68b78e979"
      },
      "outputs": [
        {
          "output_type": "stream",
          "name": "stdout",
          "text": [
            "Predictions with loaded model: [0 0 0 0 0 0 0 1 1 1 0 1 0 0 0 0 0 0 1 1 0 0 1 0 1 1 0 0 0 0 1 1 1 1 1 1 1\n",
            " 0 1 1 0 1 1 0 0 1 1 0 0 1 0 1 1 0 0 0 1 0 0 1 1 0 0 0 0 1 0 1 0 1 1 0 0 0\n",
            " 0 1 0 0 0 0 1 0 0 0 0 1 1 0 0 0 0 0 0 1 1 1 0 0 1 0 1 0 1 1 1 0 0 1 0 1 0\n",
            " 0 0 1 0 0 1 0 0 1 0 0 0 0 0 0 0 1 1 1 1 1 0 0 1 0 0 1 1 0 0 0 0 0 0 0 0 0\n",
            " 0 1 0 0 0 0]\n"
          ]
        }
      ],
      "source": [
        "import joblib\n",
        "from sklearn.linear_model import LogisticRegression\n",
        "from sklearn.model_selection import train_test_split\n",
        "import pandas as pd\n",
        "\n",
        "# Load data\n",
        "df = pd.read_csv(\"diabetes.csv\")\n",
        "X = df.drop('Outcome', axis=1)\n",
        "y = df['Outcome']\n",
        "X_train, X_test, y_train, y_test = train_test_split(X, y, test_size=0.2, random_state=42)\n",
        "\n",
        "# Train logistic regression\n",
        "model = LogisticRegression(max_iter=1000, random_state=42)\n",
        "model.fit(X_train, y_train)\n",
        "\n",
        "# Save the model to disk\n",
        "joblib.dump(model, 'logistic_model.joblib')\n",
        "\n",
        "# Load the model from disk\n",
        "loaded_model = joblib.load('logistic_model.joblib')\n",
        "\n",
        "# Make predictions with loaded model\n",
        "y_pred = loaded_model.predict(X_test)\n",
        "print(\"Predictions with loaded model:\", y_pred)\n"
      ]
    },
    {
      "cell_type": "markdown",
      "metadata": {
        "id": "HeGW3-FE2A9C"
      },
      "source": [
        "# Template Summary\n",
        "Below is the project template that you can use in your machine learning projects in Python."
      ]
    },
    {
      "cell_type": "code",
      "execution_count": 33,
      "metadata": {
        "id": "YpOaoEnI2A9C"
      },
      "outputs": [],
      "source": [
        "# Python Project Template\n",
        "# 1. Prepare Problem\n",
        "# a) Load libraries\n",
        "# b) Load dataset\n",
        "\n",
        "# 2. Summarize Data\n",
        "# a) Descriptive statistics\n",
        "# b) Data visualizations\n",
        "\n",
        "# 3. Prepare Data\n",
        "# a) Data Cleaning\n",
        "# b) Feature Selection\n",
        "# c) Data Transforms\n",
        "\n",
        "# 4. Evaluate Algorithms\n",
        "# a) Split-out validation dataset\n",
        "# b) Test options and evaluation metric\n",
        "# c) Spot Check Algorithms\n",
        "# d) Compare Algorithms\n",
        "\n",
        "# 5. Improve Accuracy\n",
        "# a) Algorithm Tuning\n",
        "# b) Ensembles\n",
        "\n",
        "# 6. Finalize Model\n",
        "# a) Predictions on validation dataset\n",
        "# b) Create standalone model on entire training dataset\n",
        "# c) Save model for later use"
      ]
    },
    {
      "cell_type": "code",
      "execution_count": 33,
      "metadata": {
        "id": "oR8QiZbs2A9D"
      },
      "outputs": [],
      "source": []
    }
  ],
  "metadata": {
    "celltoolbar": "Raw Cell Format",
    "kernelspec": {
      "display_name": "Python 3",
      "language": "python",
      "name": "python3"
    },
    "language_info": {
      "codemirror_mode": {
        "name": "ipython",
        "version": 3
      },
      "file_extension": ".py",
      "mimetype": "text/x-python",
      "name": "python",
      "nbconvert_exporter": "python",
      "pygments_lexer": "ipython3",
      "version": "3.12.3"
    },
    "colab": {
      "provenance": []
    }
  },
  "nbformat": 4,
  "nbformat_minor": 0
}